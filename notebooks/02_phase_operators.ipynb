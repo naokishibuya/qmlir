{
 "cells": [
  {
   "cell_type": "markdown",
   "id": "intro",
   "metadata": {},
   "source": [
    "# Phase Operations in QMLIR\n",
    "\n",
    "Phase operations are not self-inverse."
   ]
  },
  {
   "cell_type": "code",
   "execution_count": 1,
   "id": "imports",
   "metadata": {},
   "outputs": [],
   "source": [
    "from qmlir import QuantumCircuit\n",
    "from qmlir.operator import S, T, Sdg, Tdg\n",
    "from utils import evaluate_circuit"
   ]
  },
  {
   "cell_type": "markdown",
   "id": "413aa6cf",
   "metadata": {},
   "source": [
    "## S-Gate Operation"
   ]
  },
  {
   "cell_type": "code",
   "execution_count": 2,
   "id": "s-gate",
   "metadata": {},
   "outputs": [
    {
     "name": "stdout",
     "output_type": "stream",
     "text": [
      "Circuit: QuantumCircuit(1 qubits):\n",
      "  S|0⟩\n",
      "\n",
      "Compiled MLIR:\n",
      "module {\n",
      "  func.func @main() {\n",
      "    %0 = \"quantum.alloc\"() : () -> i32\n",
      "    \"quantum.s\"(%0) : (i32) -> ()\n",
      "    return\n",
      "  }\n",
      "}\n",
      "\n",
      "State vector: [1.+0.j 0.+0.j]\n",
      "Measurement probabilities: [1. 0.]\n",
      "Expectation value: 1.0\n",
      "Samples: {'0': 1000} (1000 shots)\n"
     ]
    }
   ],
   "source": [
    "circuit = QuantumCircuit(1)\n",
    "with circuit:\n",
    "    S(0)  # S gate\n",
    "\n",
    "evaluate_circuit(circuit)"
   ]
  },
  {
   "cell_type": "markdown",
   "id": "0800c056",
   "metadata": {},
   "source": [
    "## S† Operation\n",
    "\n",
    "The S† gate is the adjoint of the S gate."
   ]
  },
  {
   "cell_type": "code",
   "execution_count": 3,
   "id": "s-dagger",
   "metadata": {},
   "outputs": [
    {
     "name": "stdout",
     "output_type": "stream",
     "text": [
      "Circuit: QuantumCircuit(1 qubits):\n",
      "  Sdg|0⟩\n",
      "\n",
      "Compiled MLIR:\n",
      "module {\n",
      "  func.func @main() {\n",
      "    %0 = \"quantum.alloc\"() : () -> i32\n",
      "    \"quantum.sdg\"(%0) : (i32) -> ()\n",
      "    return\n",
      "  }\n",
      "}\n",
      "\n",
      "State vector: [1.+0.j 0.+0.j]\n",
      "Measurement probabilities: [1. 0.]\n",
      "Expectation value: 1.0\n",
      "Samples: {'0': 1000} (1000 shots)\n"
     ]
    }
   ],
   "source": [
    "circuit = QuantumCircuit(1)\n",
    "with circuit:\n",
    "    Sdg(0)  # S-dagger gate\n",
    "\n",
    "evaluate_circuit(circuit)"
   ]
  },
  {
   "cell_type": "markdown",
   "id": "a35a9fc5",
   "metadata": {},
   "source": [
    "## T-Gate Operation"
   ]
  },
  {
   "cell_type": "code",
   "execution_count": 4,
   "id": "t-gate",
   "metadata": {},
   "outputs": [
    {
     "name": "stdout",
     "output_type": "stream",
     "text": [
      "Circuit: QuantumCircuit(1 qubits):\n",
      "  T|0⟩\n",
      "\n",
      "Compiled MLIR:\n",
      "module {\n",
      "  func.func @main() {\n",
      "    %0 = \"quantum.alloc\"() : () -> i32\n",
      "    \"quantum.t\"(%0) : (i32) -> ()\n",
      "    return\n",
      "  }\n",
      "}\n",
      "\n",
      "State vector: [1.+0.j 0.+0.j]\n",
      "Measurement probabilities: [1. 0.]\n",
      "Expectation value: 1.0\n",
      "Samples: {'0': 1000} (1000 shots)\n"
     ]
    }
   ],
   "source": [
    "circuit = QuantumCircuit(1)\n",
    "with circuit:\n",
    "    T(0)  # T gate\n",
    "\n",
    "evaluate_circuit(circuit)"
   ]
  },
  {
   "cell_type": "markdown",
   "id": "ab1a60f6",
   "metadata": {},
   "source": [
    "## T† Operation\n",
    "\n",
    "The T† gate is the adjoint of the T gate."
   ]
  },
  {
   "cell_type": "code",
   "execution_count": 5,
   "id": "t-dagger",
   "metadata": {},
   "outputs": [
    {
     "name": "stdout",
     "output_type": "stream",
     "text": [
      "Circuit: QuantumCircuit(1 qubits):\n",
      "  Tdg|0⟩\n",
      "\n",
      "Compiled MLIR:\n",
      "module {\n",
      "  func.func @main() {\n",
      "    %0 = \"quantum.alloc\"() : () -> i32\n",
      "    \"quantum.tdg\"(%0) : (i32) -> ()\n",
      "    return\n",
      "  }\n",
      "}\n",
      "\n",
      "State vector: [1.+0.j 0.+0.j]\n",
      "Measurement probabilities: [1. 0.]\n",
      "Expectation value: 1.0\n",
      "Samples: {'0': 1000} (1000 shots)\n"
     ]
    }
   ],
   "source": [
    "circuit = QuantumCircuit(1)\n",
    "with circuit:\n",
    "    Tdg(0)  # T-dagger gate\n",
    "\n",
    "evaluate_circuit(circuit)"
   ]
  }
 ],
 "metadata": {
  "kernelspec": {
   "display_name": "venv",
   "language": "python",
   "name": "python3"
  },
  "language_info": {
   "codemirror_mode": {
    "name": "ipython",
    "version": 3
   },
   "file_extension": ".py",
   "mimetype": "text/x-python",
   "name": "python",
   "nbconvert_exporter": "python",
   "pygments_lexer": "ipython3",
   "version": "3.13.3"
  }
 },
 "nbformat": 4,
 "nbformat_minor": 5
}
