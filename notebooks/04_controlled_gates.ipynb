{
 "cells": [
  {
   "cell_type": "markdown",
   "id": "intro",
   "metadata": {},
   "source": [
    "# Controlled Gates in QMLIR\n",
    "\n",
    "Controlled gates affect a target qubit based on the state of a control qubit."
   ]
  },
  {
   "cell_type": "code",
   "execution_count": 1,
   "id": "imports",
   "metadata": {},
   "outputs": [],
   "source": [
    "from qmlir import QuantumCircuit\n",
    "from qmlir.operator import X, Y, Z, H, CX, CY, CZ, CCX, CCY, CCZ\n",
    "from utils import evaluate_circuit"
   ]
  },
  {
   "cell_type": "markdown",
   "id": "2b88c52e",
   "metadata": {},
   "source": [
    "## CX Gate (CNOT)\n",
    "\n",
    "The CX gate (CNOT) is a controlled NOT operation. It applies X to the target qubit if the control qubit is in the |1⟩ state.\n",
    "\n",
    "In other words, it flips the target qubit if the control qubit is in the |1⟩ state."
   ]
  },
  {
   "cell_type": "code",
   "execution_count": 2,
   "id": "1393b9cf",
   "metadata": {},
   "outputs": [
    {
     "name": "stdout",
     "output_type": "stream",
     "text": [
      "Circuit: QuantumCircuit(2 qubits):\n",
      "  H|0⟩\n",
      "  CX|0, 1⟩\n",
      "\n",
      "Compiled MLIR:\n",
      "module {\n",
      "  func.func @main() {\n",
      "    %0 = \"quantum.alloc\"() : () -> i32\n",
      "    %1 = \"quantum.alloc\"() : () -> i32\n",
      "    \"quantum.h\"(%0) : (i32) -> ()\n",
      "    \"quantum.cx\"(%0, %1) : (i32, i32) -> ()\n",
      "    return\n",
      "  }\n",
      "}\n",
      "\n",
      "State vector: [0.70710677+0.j 0.        +0.j 0.        +0.j 0.70710677+0.j]\n",
      "Measurement probabilities: [0.49999997 0.         0.         0.49999997]\n",
      "Expectation value: 0.9999999657714582\n",
      "Samples: {'11': 512, '00': 488} (1000 shots)\n"
     ]
    }
   ],
   "source": [
    "circuit = QuantumCircuit(2)\n",
    "with circuit:\n",
    "    H(0)  # Hadamard gate on qubit 0\n",
    "    CX(0, 1)  # CNOT gate with control qubit\n",
    "\n",
    "evaluate_circuit(circuit)"
   ]
  },
  {
   "cell_type": "markdown",
   "id": "fe682ba3",
   "metadata": {},
   "source": [
    "## CY Gate\n",
    "\n",
    "The CY gate is a controlled Y operation. It applies Y to the target qubit if the control qubit is in the |1⟩ state."
   ]
  },
  {
   "cell_type": "code",
   "execution_count": 3,
   "id": "22195c4c",
   "metadata": {},
   "outputs": [
    {
     "name": "stdout",
     "output_type": "stream",
     "text": [
      "Circuit: QuantumCircuit(2 qubits):\n",
      "  Y|0⟩\n",
      "  CY|0, 1⟩\n",
      "\n",
      "Compiled MLIR:\n",
      "module {\n",
      "  func.func @main() {\n",
      "    %0 = \"quantum.alloc\"() : () -> i32\n",
      "    %1 = \"quantum.alloc\"() : () -> i32\n",
      "    \"quantum.y\"(%0) : (i32) -> ()\n",
      "    \"quantum.cy\"(%0, %1) : (i32, i32) -> ()\n",
      "    return\n",
      "  }\n",
      "}\n",
      "\n",
      "State vector: [ 0.+0.j  0.+0.j  0.+0.j -1.+0.j]\n",
      "Measurement probabilities: [0. 0. 0. 1.]\n",
      "Expectation value: 1.0\n",
      "Samples: {'11': 1000} (1000 shots)\n"
     ]
    }
   ],
   "source": [
    "circuit = QuantumCircuit(2)\n",
    "with circuit:\n",
    "    Y(0)  # Pauli-Y gate on control qubit\n",
    "    CY(0, 1)  # Controlled-Y gate with control qubit\n",
    "\n",
    "evaluate_circuit(circuit)"
   ]
  },
  {
   "cell_type": "markdown",
   "id": "8240644a",
   "metadata": {},
   "source": [
    "## CZ Gate\n",
    "\n",
    "The CZ gate is a controlled Z operation. It applies Z to the target qubit if the control qubit is in the |1⟩ state."
   ]
  },
  {
   "cell_type": "code",
   "execution_count": 4,
   "id": "3317e2f8",
   "metadata": {},
   "outputs": [
    {
     "name": "stdout",
     "output_type": "stream",
     "text": [
      "Circuit: QuantumCircuit(2 qubits):\n",
      "  X|0⟩\n",
      "  CZ|0, 1⟩\n",
      "\n",
      "Compiled MLIR:\n",
      "module {\n",
      "  func.func @main() {\n",
      "    %0 = \"quantum.alloc\"() : () -> i32\n",
      "    %1 = \"quantum.alloc\"() : () -> i32\n",
      "    \"quantum.x\"(%0) : (i32) -> ()\n",
      "    \"quantum.cz\"(%0, %1) : (i32, i32) -> ()\n",
      "    return\n",
      "  }\n",
      "}\n",
      "\n",
      "State vector: [0.+0.j 1.+0.j 0.+0.j 0.+0.j]\n",
      "Measurement probabilities: [0. 1. 0. 0.]\n",
      "Expectation value: -1.0\n",
      "Samples: {'01': 1000} (1000 shots)\n"
     ]
    }
   ],
   "source": [
    "circuit = QuantumCircuit(2)\n",
    "with circuit:\n",
    "    X(0)  # Pauli-X gate on control qubit\n",
    "    CZ(0, 1)  # Controlled-Z gate with control qubit\n",
    "\n",
    "evaluate_circuit(circuit)"
   ]
  },
  {
   "cell_type": "markdown",
   "id": "28cc4db2",
   "metadata": {},
   "source": [
    "## CCX Gate\n",
    "\n",
    "The CCX gate is a controlled-controlled X gate (Toffoli gate). It applies X to the target qubit if the two control qubits are both in the |1⟩ state."
   ]
  },
  {
   "cell_type": "code",
   "execution_count": 5,
   "id": "7ed891e8",
   "metadata": {},
   "outputs": [
    {
     "name": "stdout",
     "output_type": "stream",
     "text": [
      "Circuit: QuantumCircuit(3 qubits):\n",
      "  X|0⟩\n",
      "  X|1⟩\n",
      "  CCX|0, 1, 2⟩\n",
      "\n",
      "Compiled MLIR:\n",
      "module {\n",
      "  func.func @main() {\n",
      "    %0 = \"quantum.alloc\"() : () -> i32\n",
      "    %1 = \"quantum.alloc\"() : () -> i32\n",
      "    %2 = \"quantum.alloc\"() : () -> i32\n",
      "    \"quantum.x\"(%0) : (i32) -> ()\n",
      "    \"quantum.x\"(%1) : (i32) -> ()\n",
      "    \"quantum.ccx\"(%0, %1, %2) : (i32, i32, i32) -> ()\n",
      "    return\n",
      "  }\n",
      "}\n",
      "\n",
      "State vector: [0.+0.j 0.+0.j 0.+0.j 0.+0.j 0.+0.j 0.+0.j 0.+0.j 1.+0.j]\n",
      "Measurement probabilities: [0. 0. 0. 0. 0. 0. 0. 1.]\n",
      "Expectation value: -1.0\n",
      "Samples: {'111': 1000} (1000 shots)\n"
     ]
    }
   ],
   "source": [
    "circuit = QuantumCircuit(3)\n",
    "with circuit:\n",
    "    X(0)  # Pauli-X gate on control qubit\n",
    "    X(1)  # Pauli-X gate on second control qubit\n",
    "    CCX(0, 1, 2)  # Toffoli gate with two control qubits\n",
    "\n",
    "evaluate_circuit(circuit)"
   ]
  },
  {
   "cell_type": "markdown",
   "id": "b035f20e",
   "metadata": {},
   "source": [
    "## CCY Gate\n",
    "\n",
    "The CCY gate is a controlled-controlled Y gate. It applies Y to the target qubit if the two control qubits are both in the |1⟩ state."
   ]
  },
  {
   "cell_type": "code",
   "execution_count": 6,
   "id": "1fc392b0",
   "metadata": {},
   "outputs": [
    {
     "name": "stdout",
     "output_type": "stream",
     "text": [
      "Circuit: QuantumCircuit(3 qubits):\n",
      "  X|0⟩\n",
      "  X|1⟩\n",
      "  CCY|0, 1, 2⟩\n",
      "\n",
      "Compiled MLIR:\n",
      "module {\n",
      "  func.func @main() {\n",
      "    %0 = \"quantum.alloc\"() : () -> i32\n",
      "    %1 = \"quantum.alloc\"() : () -> i32\n",
      "    %2 = \"quantum.alloc\"() : () -> i32\n",
      "    \"quantum.x\"(%0) : (i32) -> ()\n",
      "    \"quantum.x\"(%1) : (i32) -> ()\n",
      "    \"quantum.ccy\"(%0, %1, %2) : (i32, i32, i32) -> ()\n",
      "    return\n",
      "  }\n",
      "}\n",
      "\n",
      "State vector: [0.+0.j 0.+0.j 0.+0.j 0.+0.j 0.+0.j 0.+0.j 0.+0.j 0.+1.j]\n",
      "Measurement probabilities: [0. 0. 0. 0. 0. 0. 0. 1.]\n",
      "Expectation value: -1.0\n",
      "Samples: {'111': 1000} (1000 shots)\n"
     ]
    }
   ],
   "source": [
    "circuit = QuantumCircuit(3)\n",
    "with circuit:\n",
    "    X(0)  # Pauli-X gate on control qubit\n",
    "    X(1)  # Pauli-X gate on second control qubit\n",
    "    CCY(0, 1, 2)  # Controlled-controlled Y gate with two control qubits\n",
    "\n",
    "evaluate_circuit(circuit)"
   ]
  },
  {
   "cell_type": "markdown",
   "id": "47c143fc",
   "metadata": {},
   "source": [
    "## CCZ Gate\n",
    "\n",
    "The CCZ gate is a controlled-controlled Z gate. It applies Z to the target qubit if the two control qubits are both in the |1⟩ state."
   ]
  },
  {
   "cell_type": "code",
   "execution_count": 7,
   "id": "3d628b6f",
   "metadata": {},
   "outputs": [
    {
     "name": "stdout",
     "output_type": "stream",
     "text": [
      "Circuit: QuantumCircuit(3 qubits):\n",
      "  H|2⟩\n",
      "  X|0⟩\n",
      "  X|1⟩\n",
      "  CCZ|0, 1, 2⟩\n",
      "\n",
      "Compiled MLIR:\n",
      "module {\n",
      "  func.func @main() {\n",
      "    %0 = \"quantum.alloc\"() : () -> i32\n",
      "    %1 = \"quantum.alloc\"() : () -> i32\n",
      "    %2 = \"quantum.alloc\"() : () -> i32\n",
      "    \"quantum.h\"(%2) : (i32) -> ()\n",
      "    \"quantum.x\"(%0) : (i32) -> ()\n",
      "    \"quantum.x\"(%1) : (i32) -> ()\n",
      "    \"quantum.ccz\"(%0, %1, %2) : (i32, i32, i32) -> ()\n",
      "    return\n",
      "  }\n",
      "}\n",
      "\n",
      "State vector: [ 0.        +0.j  0.        +0.j  0.        +0.j  0.70710677+0.j\n",
      "  0.        +0.j  0.        +0.j  0.        +0.j -0.70710677+0.j]\n",
      "Measurement probabilities: [0.         0.         0.         0.49999997 0.         0.\n",
      " 0.         0.49999997]\n",
      "Expectation value: 0.0\n",
      "Samples: {'111': 512, '011': 488} (1000 shots)\n"
     ]
    }
   ],
   "source": [
    "circuit = QuantumCircuit(3)\n",
    "with circuit:\n",
    "    H(2)  # Hadamard gate on target qubit\n",
    "    X(0)  # Pauli-X gate on control qubit\n",
    "    X(1)  # Pauli-X gate on second control qubit\n",
    "    CCZ(0, 1, 2)  # Toffoli gate with two control qubits\n",
    "\n",
    "evaluate_circuit(circuit)"
   ]
  }
 ],
 "metadata": {
  "kernelspec": {
   "display_name": "venv",
   "language": "python",
   "name": "python3"
  },
  "language_info": {
   "codemirror_mode": {
    "name": "ipython",
    "version": 3
   },
   "file_extension": ".py",
   "mimetype": "text/x-python",
   "name": "python",
   "nbconvert_exporter": "python",
   "pygments_lexer": "ipython3",
   "version": "3.13.3"
  }
 },
 "nbformat": 4,
 "nbformat_minor": 5
}
