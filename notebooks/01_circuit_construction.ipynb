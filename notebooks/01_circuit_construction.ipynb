{
 "cells": [
  {
   "cell_type": "markdown",
   "id": "c2477cf0",
   "metadata": {},
   "source": [
    "# Quantum Circuit Construction with QMLIR\n",
    "\n",
    "This notebook demonstrates how to build quantum circuits using QMLIR's quantum circuit API. We'll explore different types of gates, parameterized operations, and circuit construction patterns.\n",
    "\n",
    "## Learning Objectives\n",
    "- Build circuits with single-qubit gates (Pauli, Hadamard, Phase)\n",
    "- Use parametric rotation gates (RX, RY, RZ)\n",
    "- Construct two-qubit controlled operations (CNOT, CY, CZ)\n",
    "- Understand circuit representation and method chaining"
   ]
  },
  {
   "cell_type": "markdown",
   "id": "ad84044d",
   "metadata": {},
   "source": [
    "## Import Required Libraries\n",
    "\n",
    "We need to import the `QuantumCircuit` class for building circuits and the `Parameter` class for parameterized gates."
   ]
  },
  {
   "cell_type": "code",
   "execution_count": 1,
   "id": "d9b9c343",
   "metadata": {},
   "outputs": [
    {
     "ename": "ImportError",
     "evalue": "cannot import name 'simulate' from 'qmlir.simulator' (/Users/naoki/workspace/qmlir/qmlir/simulator/__init__.py)",
     "output_type": "error",
     "traceback": [
      "\u001b[31m---------------------------------------------------------------------------\u001b[39m",
      "\u001b[31mImportError\u001b[39m                               Traceback (most recent call last)",
      "\u001b[36mCell\u001b[39m\u001b[36m \u001b[39m\u001b[32mIn[1]\u001b[39m\u001b[32m, line 1\u001b[39m\n\u001b[32m----> \u001b[39m\u001b[32m1\u001b[39m \u001b[38;5;28;01mfrom\u001b[39;00m\u001b[38;5;250m \u001b[39m\u001b[34;01mqmlir\u001b[39;00m\u001b[38;5;250m \u001b[39m\u001b[38;5;28;01mimport\u001b[39;00m QuantumCircuit, Parameter\n\u001b[32m      2\u001b[39m \u001b[38;5;28;01mimport\u001b[39;00m\u001b[38;5;250m \u001b[39m\u001b[34;01mmath\u001b[39;00m\n",
      "\u001b[36mFile \u001b[39m\u001b[32m~/workspace/qmlir/qmlir/__init__.py:8\u001b[39m\n\u001b[32m      6\u001b[39m \u001b[38;5;28;01mfrom\u001b[39;00m\u001b[38;5;250m \u001b[39m\u001b[34;01m.\u001b[39;00m\u001b[34;01mcircuit\u001b[39;00m\u001b[38;5;250m \u001b[39m\u001b[38;5;28;01mimport\u001b[39;00m QuantumCircuit\n\u001b[32m      7\u001b[39m \u001b[38;5;28;01mfrom\u001b[39;00m\u001b[38;5;250m \u001b[39m\u001b[34;01m.\u001b[39;00m\u001b[34;01mparameter\u001b[39;00m\u001b[38;5;250m \u001b[39m\u001b[38;5;28;01mimport\u001b[39;00m Parameter\n\u001b[32m----> \u001b[39m\u001b[32m8\u001b[39m \u001b[38;5;28;01mfrom\u001b[39;00m\u001b[38;5;250m \u001b[39m\u001b[34;01m.\u001b[39;00m\u001b[34;01msimulator\u001b[39;00m\u001b[38;5;250m \u001b[39m\u001b[38;5;28;01mimport\u001b[39;00m simulate\n\u001b[32m     11\u001b[39m __all__ = [\u001b[33m\"\u001b[39m\u001b[33mQuantumCircuit\u001b[39m\u001b[33m\"\u001b[39m, \u001b[33m\"\u001b[39m\u001b[33mParameter\u001b[39m\u001b[33m\"\u001b[39m, \u001b[33m\"\u001b[39m\u001b[33msimulate\u001b[39m\u001b[33m\"\u001b[39m]\n",
      "\u001b[31mImportError\u001b[39m: cannot import name 'simulate' from 'qmlir.simulator' (/Users/naoki/workspace/qmlir/qmlir/simulator/__init__.py)"
     ]
    }
   ],
   "source": [
    "from qmlir import QuantumCircuit, Parameter\n",
    "import math"
   ]
  },
  {
   "cell_type": "markdown",
   "id": "514b8bac",
   "metadata": {},
   "source": [
    "## Basic Single-Qubit Gates\n",
    "\n",
    "Let's start with the fundamental single-qubit gates: Pauli gates (X, Y, Z), Hadamard (H), and phase gates (S, T)."
   ]
  },
  {
   "cell_type": "code",
   "execution_count": null,
   "id": "a6c04921",
   "metadata": {},
   "outputs": [],
   "source": [
    "# Create a single-qubit circuit for Pauli gates\n",
    "print(\"=== Pauli Gates ===\")\n",
    "\n",
    "# Identity gate (I)\n",
    "circuit_i = QuantumCircuit(1)\n",
    "circuit_i.i(0)\n",
    "print(\"Identity gate:\", circuit_i)\n",
    "\n",
    "# Pauli-X gate (bit flip)\n",
    "circuit_x = QuantumCircuit(1)\n",
    "circuit_x.x(0)\n",
    "print(\"Pauli-X gate:\", circuit_x)\n",
    "\n",
    "# Pauli-Y gate\n",
    "circuit_y = QuantumCircuit(1)\n",
    "circuit_y.y(0)\n",
    "print(\"Pauli-Y gate:\", circuit_y)\n",
    "\n",
    "# Pauli-Z gate (phase flip)\n",
    "circuit_z = QuantumCircuit(1)\n",
    "circuit_z.z(0)\n",
    "print(\"Pauli-Z gate:\", circuit_z)"
   ]
  },
  {
   "cell_type": "code",
   "execution_count": null,
   "id": "d3e32e54",
   "metadata": {},
   "outputs": [],
   "source": [
    "# Hadamard and Phase gates\n",
    "print(\"\\n=== Hadamard and Phase Gates ===\")\n",
    "\n",
    "# Hadamard gate (creates superposition)\n",
    "circuit_h = QuantumCircuit(1)\n",
    "circuit_h.h(0)\n",
    "print(\"Hadamard gate:\", circuit_h)\n",
    "\n",
    "# S gate (phase gate, π/2 rotation)\n",
    "circuit_s = QuantumCircuit(1)\n",
    "circuit_s.s(0)\n",
    "print(\"S gate (π/2 phase):\", circuit_s)\n",
    "\n",
    "# T gate (π/8 rotation)\n",
    "circuit_t = QuantumCircuit(1)\n",
    "circuit_t.t(0)\n",
    "print(\"T gate (π/8 phase):\", circuit_t)\n",
    "\n",
    "# S-dagger and T-dagger (inverse operations)\n",
    "circuit_sdg = QuantumCircuit(1)\n",
    "circuit_sdg.sdg(0)\n",
    "print(\"S-dagger gate:\", circuit_sdg)\n",
    "\n",
    "circuit_tdg = QuantumCircuit(1)\n",
    "circuit_tdg.tdg(0)\n",
    "print(\"T-dagger gate:\", circuit_tdg)"
   ]
  },
  {
   "cell_type": "markdown",
   "id": "02963b80",
   "metadata": {},
   "source": [
    "## Parametric Rotation Gates\n",
    "\n",
    "Rotation gates (RX, RY, RZ) allow arbitrary rotations around the X, Y, and Z axes. These gates require a `Parameter` object to specify the rotation angle.\n",
    "\n",
    "### Mathematical Representation\n",
    "\n",
    "The rotation gates are defined as:\n",
    "- **RX gate**: $R_X(\\theta) = e^{-i\\frac{\\theta}{2}X} = \\begin{pmatrix} \\cos(\\theta/2) & -i\\sin(\\theta/2) \\\\ -i\\sin(\\theta/2) & \\cos(\\theta/2) \\end{pmatrix}$\n",
    "\n",
    "- **RY gate**: $R_Y(\\theta) = e^{-i\\frac{\\theta}{2}Y} = \\begin{pmatrix} \\cos(\\theta/2) & -\\sin(\\theta/2) \\\\ \\sin(\\theta/2) & \\cos(\\theta/2) \\end{pmatrix}$\n",
    "\n",
    "- **RZ gate**: $R_Z(\\theta) = e^{-i\\frac{\\theta}{2}Z} = \\begin{pmatrix} e^{-i\\theta/2} & 0 \\\\ 0 & e^{i\\theta/2} \\end{pmatrix}$\n",
    "\n",
    "These gates rotate the qubit state vector on the Bloch sphere by angle $\\theta$ around the respective axis."
   ]
  },
  {
   "cell_type": "code",
   "execution_count": null,
   "id": "7116db03",
   "metadata": {},
   "outputs": [],
   "source": [
    "# Create rotation gates with specific angles\n",
    "print(\"=== Parametric Rotation Gates ===\")\n",
    "\n",
    "# RX rotation (around X-axis)\n",
    "theta_x = Parameter(math.pi/4, \"theta_x\")  # 45 degrees\n",
    "circuit_rx = QuantumCircuit(1)\n",
    "circuit_rx.rx(0, theta_x)\n",
    "print(\"RX(π/4) gate:\", circuit_rx)\n",
    "\n",
    "# RY rotation (around Y-axis)\n",
    "theta_y = Parameter(math.pi/2, \"theta_y\")  # 90 degrees\n",
    "circuit_ry = QuantumCircuit(1)\n",
    "circuit_ry.ry(0, theta_y)\n",
    "print(\"RY(π/2) gate:\", circuit_ry)\n",
    "\n",
    "# RZ rotation (around Z-axis)\n",
    "theta_z = Parameter(math.pi/3, \"theta_z\")  # 60 degrees\n",
    "circuit_rz = QuantumCircuit(1)\n",
    "circuit_rz.rz(0, theta_z)\n",
    "print(\"RZ(π/3) gate:\", circuit_rz)\n",
    "\n",
    "# Symbolic parameter (for optimization/compilation)\n",
    "symbolic_angle = Parameter(0.0, \"phi\")  # Placeholder for symbolic computation\n",
    "circuit_symbolic = QuantumCircuit(1)\n",
    "circuit_symbolic.ry(0, symbolic_angle)\n",
    "print(\"Symbolic RY gate:\", circuit_symbolic)"
   ]
  },
  {
   "cell_type": "markdown",
   "id": "3f35d170",
   "metadata": {},
   "source": [
    "## Two-Qubit Controlled Gates\n",
    "\n",
    "Controlled gates operate on two qubits: a control qubit and a target qubit. The gate is applied to the target only when the control qubit is in the $|1\\rangle$ state.\n",
    "\n",
    "### Mathematical Representation\n",
    "\n",
    "- **CNOT (CX) gate**: $\\text{CNOT} = |0\\rangle\\langle0| \\otimes I + |1\\rangle\\langle1| \\otimes X = \\begin{pmatrix} 1 & 0 & 0 & 0 \\\\ 0 & 1 & 0 & 0 \\\\ 0 & 0 & 0 & 1 \\\\ 0 & 0 & 1 & 0 \\end{pmatrix}$\n",
    "\n",
    "- **Controlled-Y (CY) gate**: $\\text{CY} = |0\\rangle\\langle0| \\otimes I + |1\\rangle\\langle1| \\otimes Y$\n",
    "\n",
    "- **Controlled-Z (CZ) gate**: $\\text{CZ} = |0\\rangle\\langle0| \\otimes I + |1\\rangle\\langle1| \\otimes Z = \\begin{pmatrix} 1 & 0 & 0 & 0 \\\\ 0 & 1 & 0 & 0 \\\\ 0 & 0 & 1 & 0 \\\\ 0 & 0 & 0 & -1 \\end{pmatrix}$\n",
    "\n",
    "The control qubit remains unchanged, while the target qubit undergoes the specified operation when the control is $|1\\rangle$."
   ]
  },
  {
   "cell_type": "code",
   "execution_count": null,
   "id": "314b14af",
   "metadata": {},
   "outputs": [],
   "source": [
    "# Create two-qubit circuits with controlled gates\n",
    "print(\"=== Two-Qubit Controlled Gates ===\")\n",
    "\n",
    "# CNOT gate (Controlled-X)\n",
    "circuit_cnot = QuantumCircuit(2)\n",
    "circuit_cnot.cx(0, 1)  # Control: qubit 0, Target: qubit 1\n",
    "print(\"CNOT gate (0→1):\", circuit_cnot)\n",
    "\n",
    "# CNOT with reversed control/target\n",
    "circuit_cnot_rev = QuantumCircuit(2)\n",
    "circuit_cnot_rev.cx(1, 0)  # Control: qubit 1, Target: qubit 0\n",
    "print(\"CNOT gate (1→0):\", circuit_cnot_rev)\n",
    "\n",
    "# Controlled-Y gate\n",
    "circuit_cy = QuantumCircuit(2)\n",
    "circuit_cy.cy(0, 1)\n",
    "print(\"Controlled-Y gate:\", circuit_cy)\n",
    "\n",
    "# Controlled-Z gate\n",
    "circuit_cz = QuantumCircuit(2)\n",
    "circuit_cz.cz(0, 1)\n",
    "print(\"Controlled-Z gate:\", circuit_cz)\n",
    "\n",
    "# Multi-qubit example\n",
    "circuit_multi = QuantumCircuit(3)\n",
    "circuit_multi.cx(0, 1)\n",
    "circuit_multi.cx(1, 2)\n",
    "print(\"Multi-qubit CNOT chain:\", circuit_multi)"
   ]
  },
  {
   "cell_type": "markdown",
   "id": "8e072483",
   "metadata": {},
   "source": [
    "## Circuit Visualization and Analysis\n",
    "\n",
    "Quantum circuits provide useful methods for visualization and analysis. Let's explore the `__str__` and `__repr__` methods and examine circuit properties."
   ]
  },
  {
   "cell_type": "code",
   "execution_count": null,
   "id": "7097301c",
   "metadata": {},
   "outputs": [],
   "source": [
    "# Create a complex circuit for analysis\n",
    "print(\"=== Circuit Analysis Example ===\")\n",
    "\n",
    "# Build a Bell state circuit\n",
    "bell_circuit = QuantumCircuit(2)\n",
    "bell_circuit.h(0)\n",
    "bell_circuit.cx(0, 1)\n",
    "\n",
    "# Different ways to view the circuit\n",
    "print(\"repr() output:\", repr(bell_circuit))\n",
    "print(\"\\nstr() output:\")\n",
    "print(str(bell_circuit))\n",
    "\n",
    "# Circuit properties\n",
    "print(\"\\nCircuit Properties:\")\n",
    "print(f\"  Number of qubits: {bell_circuit.num_qubits}\")\n",
    "print(f\"  Number of gates: {len(bell_circuit.gates)}\")\n",
    "print(f\"  Gate types: {[gate.name for gate in bell_circuit.gates]}\")\n",
    "\n",
    "# Analyze individual gates\n",
    "print(\"\\nGate Details:\")\n",
    "for i, gate in enumerate(bell_circuit.gates):\n",
    "    print(f\"  Gate {i}: {gate.name} on qubit(s) {gate.q}\")\n",
    "    if gate.parameters:\n",
    "        print(f\"    Parameters: {gate.parameters}\")\n",
    "    else:\n",
    "        print(\"    No parameters\")"
   ]
  },
  {
   "cell_type": "markdown",
   "id": "70a65ae5",
   "metadata": {},
   "source": [
    "## Circuit Method Chaining\n",
    "\n",
    "QMLIR supports fluent interface patterns, allowing you to chain multiple gate operations in a single expression. This makes circuit construction concise and readable."
   ]
  },
  {
   "cell_type": "code",
   "execution_count": null,
   "id": "7f30dc9b",
   "metadata": {},
   "outputs": [],
   "source": [
    "# Demonstrate method chaining\n",
    "print(\"=== Method Chaining Examples ===\")\n",
    "\n",
    "# Simple chaining: Bell state\n",
    "bell_chained = QuantumCircuit(2).h(0).cx(0, 1)\n",
    "print(\"Bell state (chained):\", bell_chained)\n",
    "\n",
    "# Complex chaining: GHZ state\n",
    "ghz_state = QuantumCircuit(3).h(0).cx(0, 1).cx(1, 2)\n",
    "print(\"GHZ state (chained):\", ghz_state)\n",
    "\n",
    "# Chaining with different gate types\n",
    "mixed_circuit = (QuantumCircuit(2)\n",
    "                .h(0)\n",
    "                .s(1)\n",
    "                .cx(0, 1)\n",
    "                .t(0)\n",
    "                .z(1))\n",
    "print(\"Mixed gates (chained):\", mixed_circuit)\n",
    "\n",
    "# Even parametric gates can be chained\n",
    "angle1 = Parameter(math.pi/4, \"angle1\")\n",
    "angle2 = Parameter(math.pi/6, \"angle2\")\n",
    "param_circuit = (QuantumCircuit(1)\n",
    "                .rx(0, angle1)\n",
    "                .ry(0, angle2)\n",
    "                .h(0))\n",
    "print(\"Parametric circuit (chained):\", param_circuit)\n",
    "\n",
    "print(\"\\nMethod chaining makes circuit construction concise and readable!\")"
   ]
  }
 ],
 "metadata": {
  "kernelspec": {
   "display_name": "venv",
   "language": "python",
   "name": "python3"
  },
  "language_info": {
   "codemirror_mode": {
    "name": "ipython",
    "version": 3
   },
   "file_extension": ".py",
   "mimetype": "text/x-python",
   "name": "python",
   "nbconvert_exporter": "python",
   "pygments_lexer": "ipython3",
   "version": "3.13.3"
  }
 },
 "nbformat": 4,
 "nbformat_minor": 5
}
