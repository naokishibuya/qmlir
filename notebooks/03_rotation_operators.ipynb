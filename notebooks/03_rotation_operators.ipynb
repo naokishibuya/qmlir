{
 "cells": [
  {
   "cell_type": "markdown",
   "id": "intro",
   "metadata": {},
   "source": [
    "# Rotation Operations in QMLIR\n",
    "\n",
    "Rotation operations take a single parameter (angle in radian). It is not self-inverse, but can be inverted by negating the parameter."
   ]
  },
  {
   "cell_type": "code",
   "execution_count": 1,
   "id": "imports",
   "metadata": {},
   "outputs": [],
   "source": [
    "from qmlir import QuantumCircuit, Parameter\n",
    "from qmlir.operator import RX, RY, RZ\n",
    "from utils import evaluate_circuit"
   ]
  },
  {
   "cell_type": "markdown",
   "id": "15abe904",
   "metadata": {},
   "source": [
    "## RX Operators\n",
    "\n",
    "RX gate is a rotation around the X axis of the Bloch sphere."
   ]
  },
  {
   "cell_type": "code",
   "execution_count": 2,
   "id": "49d64493",
   "metadata": {},
   "outputs": [
    {
     "name": "stdout",
     "output_type": "stream",
     "text": [
      "Circuit: QuantumCircuit(1 qubits):\n",
      "  RX(param_feff8647=1.5707963267948966)|0⟩\n",
      "\n",
      "Compiled MLIR:\n",
      "module {\n",
      "  func.func @main(%arg0: f64) {\n",
      "    %0 = \"quantum.alloc\"() : () -> i32\n",
      "    \"quantum.rx\"(%0, %arg0) : (i32, f64) -> ()\n",
      "    return\n",
      "  }\n",
      "}\n",
      "\n",
      "State vector: [0.70710677+0.j         0.        -0.70710677j]\n",
      "Measurement probabilities: [0.49999997 0.49999997]\n",
      "Expectation value: 0.0\n",
      "Samples: {'1': 512, '0': 488} (1000 shots)\n"
     ]
    }
   ],
   "source": [
    "import numpy as np\n",
    "\n",
    "circuit = QuantumCircuit(1)\n",
    "with circuit:\n",
    "    RX(np.pi / 2)(0)  # RX rotation gate\n",
    "\n",
    "evaluate_circuit(circuit)"
   ]
  },
  {
   "cell_type": "markdown",
   "id": "045456ad",
   "metadata": {},
   "source": [
    "## RY Operators\n",
    "\n",
    "RY gate is a rotation around the Y axis of the Bloch sphere."
   ]
  },
  {
   "cell_type": "code",
   "execution_count": 3,
   "id": "bbea68d6",
   "metadata": {},
   "outputs": [
    {
     "name": "stdout",
     "output_type": "stream",
     "text": [
      "Circuit: QuantumCircuit(1 qubits):\n",
      "  RY(theta=0.7853981633974483)|0⟩\n",
      "\n",
      "Compiled MLIR:\n",
      "module {\n",
      "  func.func @main(%arg0: f64) {\n",
      "    %0 = \"quantum.alloc\"() : () -> i32\n",
      "    \"quantum.ry\"(%0, %arg0) : (i32, f64) -> ()\n",
      "    return\n",
      "  }\n",
      "}\n",
      "\n",
      "State vector: [0.9238795 +0.j 0.38268343+0.j]\n",
      "Measurement probabilities: [0.85355335 0.1464466 ]\n",
      "Expectation value: 0.7071067336442729\n",
      "Samples: {'1': 183, '0': 817} (1000 shots)\n"
     ]
    }
   ],
   "source": [
    "circuit = QuantumCircuit(1)\n",
    "with circuit:\n",
    "    param = Parameter(np.pi / 4, name=\"theta\")\n",
    "    RY(param)(0)  # RY rotation gate\n",
    "\n",
    "evaluate_circuit(circuit)"
   ]
  },
  {
   "cell_type": "markdown",
   "id": "d674a7e1",
   "metadata": {},
   "source": [
    "## RZ Operators\n",
    "\n",
    "RZ gate is a rotation around the Z axis of the Bloch sphere."
   ]
  },
  {
   "cell_type": "code",
   "execution_count": 4,
   "id": "a83b9f7e",
   "metadata": {},
   "outputs": [
    {
     "name": "stdout",
     "output_type": "stream",
     "text": [
      "Circuit: QuantumCircuit(1 qubits):\n",
      "  RZ(phi=0.7853981633974483)|0⟩\n",
      "\n",
      "Compiled MLIR:\n",
      "module {\n",
      "  func.func @main(%arg0: f64) {\n",
      "    %0 = \"quantum.alloc\"() : () -> i32\n",
      "    \"quantum.rz\"(%0, %arg0) : (i32, f64) -> ()\n",
      "    return\n",
      "  }\n",
      "}\n",
      "\n",
      "State vector: [0.9238795-0.38268343j 0.       +0.j        ]\n",
      "Measurement probabilities: [1. 0.]\n",
      "Expectation value: 0.9999999429314324\n",
      "Samples: {'0': 1000} (1000 shots)\n"
     ]
    }
   ],
   "source": [
    "circuit = QuantumCircuit(1)\n",
    "with circuit:\n",
    "    param = Parameter(np.pi / 4, name=\"phi\")\n",
    "    RZ(param)(0)  # RZ rotation gate\n",
    "\n",
    "evaluate_circuit(circuit)"
   ]
  }
 ],
 "metadata": {
  "kernelspec": {
   "display_name": "venv",
   "language": "python",
   "name": "python3"
  },
  "language_info": {
   "codemirror_mode": {
    "name": "ipython",
    "version": 3
   },
   "file_extension": ".py",
   "mimetype": "text/x-python",
   "name": "python",
   "nbconvert_exporter": "python",
   "pygments_lexer": "ipython3",
   "version": "3.13.3"
  }
 },
 "nbformat": 4,
 "nbformat_minor": 5
}
