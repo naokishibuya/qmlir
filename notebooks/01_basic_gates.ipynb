{
 "cells": [
  {
   "cell_type": "markdown",
   "id": "intro",
   "metadata": {},
   "source": [
    "# Basic Quantum Gates\n",
    "\n",
    "Fundamental single-qubit operations."
   ]
  },
  {
   "cell_type": "code",
   "execution_count": 1,
   "id": "imports",
   "metadata": {},
   "outputs": [],
   "source": [
    "from qmlir import QuantumCircuit, JaxSimulator\n",
    "\n",
    "\n",
    "def evaluate_basic_gates(circuit: QuantumCircuit, observable: str = \"Z\", shots: int = 1000):\n",
    "    \"\"\"Test basic quantum gates.\"\"\"\n",
    "    simulator = JaxSimulator()\n",
    "    state = simulator.state_vector(circuit)\n",
    "    probs = simulator.calc_probs(circuit)\n",
    "    expval = simulator.calc_expval(circuit, observable)\n",
    "    samples = simulator.get_counts(circuit, shots)\n",
    "\n",
    "    for gate in circuit.gates:\n",
    "        print(f\"{gate}\")\n",
    "        print(f\"State vector: {state}\")\n",
    "        print(f\"Measurement probabilities: {probs}\")\n",
    "        print(f\"Expectation value [{observable}]: {expval}\")\n",
    "        print(f\"Samples: {samples} ({shots} shots)\")\n"
   ]
  },
  {
   "cell_type": "code",
   "execution_count": 2,
   "id": "identity",
   "metadata": {},
   "outputs": [
    {
     "name": "stdout",
     "output_type": "stream",
     "text": [
      "I|0⟩\n",
      "State vector: [1.+0.j 0.+0.j]\n",
      "Measurement probabilities: [1. 0.]\n",
      "Expectation value [Z]: 1.0\n",
      "Samples: {'0': 1000} (1000 shots)\n"
     ]
    }
   ],
   "source": [
    "circuit = QuantumCircuit(1)\n",
    "circuit.i(0)\n",
    "\n",
    "evaluate_basic_gates(circuit)"
   ]
  },
  {
   "cell_type": "code",
   "execution_count": 3,
   "id": "pauli-x",
   "metadata": {},
   "outputs": [
    {
     "name": "stdout",
     "output_type": "stream",
     "text": [
      "X|0⟩\n",
      "State vector: [0.+0.j 1.+0.j]\n",
      "Measurement probabilities: [0. 1.]\n",
      "Expectation value [Z]: -1.0\n",
      "Samples: {'1': 1000} (1000 shots)\n"
     ]
    }
   ],
   "source": [
    "circuit = QuantumCircuit(1)\n",
    "circuit.x(0)\n",
    "\n",
    "evaluate_basic_gates(circuit)"
   ]
  },
  {
   "cell_type": "code",
   "execution_count": 4,
   "id": "pauli-y",
   "metadata": {},
   "outputs": [
    {
     "name": "stdout",
     "output_type": "stream",
     "text": [
      "Y|0⟩\n",
      "State vector: [0.+0.j 0.+1.j]\n",
      "Measurement probabilities: [0. 1.]\n",
      "Expectation value [Z]: -1.0\n",
      "Samples: {'1': 1000} (1000 shots)\n"
     ]
    }
   ],
   "source": [
    "circuit = QuantumCircuit(1)\n",
    "circuit.y(0)\n",
    "\n",
    "evaluate_basic_gates(circuit)"
   ]
  },
  {
   "cell_type": "code",
   "execution_count": 5,
   "id": "pauli-z",
   "metadata": {},
   "outputs": [
    {
     "name": "stdout",
     "output_type": "stream",
     "text": [
      "Z|0⟩\n",
      "State vector: [1.+0.j 0.+0.j]\n",
      "Measurement probabilities: [1. 0.]\n",
      "Expectation value [Z]: 1.0\n",
      "Samples: {'0': 1000} (1000 shots)\n"
     ]
    }
   ],
   "source": [
    "circuit = QuantumCircuit(1)\n",
    "circuit.z(0)\n",
    "\n",
    "evaluate_basic_gates(circuit)"
   ]
  },
  {
   "cell_type": "code",
   "execution_count": 6,
   "id": "hadamard",
   "metadata": {},
   "outputs": [
    {
     "name": "stdout",
     "output_type": "stream",
     "text": [
      "H|0⟩\n",
      "State vector: [0.70710677+0.j 0.70710677+0.j]\n",
      "Measurement probabilities: [0.49999997 0.49999997]\n",
      "Expectation value [Z]: 0.0\n",
      "Samples: {'1': 512, '0': 488} (1000 shots)\n"
     ]
    }
   ],
   "source": [
    "circuit = QuantumCircuit(1)\n",
    "circuit.h(0)\n",
    "\n",
    "evaluate_basic_gates(circuit)"
   ]
  },
  {
   "cell_type": "code",
   "execution_count": 7,
   "id": "s-gate",
   "metadata": {},
   "outputs": [
    {
     "name": "stdout",
     "output_type": "stream",
     "text": [
      "S|0⟩\n",
      "State vector: [1.+0.j 0.+0.j]\n",
      "Measurement probabilities: [1. 0.]\n",
      "Expectation value [Z]: 1.0\n",
      "Samples: {'0': 1000} (1000 shots)\n"
     ]
    }
   ],
   "source": [
    "circuit = QuantumCircuit(1)\n",
    "circuit.s(0)\n",
    "\n",
    "evaluate_basic_gates(circuit)"
   ]
  },
  {
   "cell_type": "code",
   "execution_count": 8,
   "id": "t-gate",
   "metadata": {},
   "outputs": [
    {
     "name": "stdout",
     "output_type": "stream",
     "text": [
      "T|0⟩\n",
      "State vector: [1.+0.j 0.+0.j]\n",
      "Measurement probabilities: [1. 0.]\n",
      "Expectation value [Z]: 1.0\n",
      "Samples: {'0': 1000} (1000 shots)\n"
     ]
    }
   ],
   "source": [
    "circuit = QuantumCircuit(1)\n",
    "circuit.t(0)\n",
    "\n",
    "evaluate_basic_gates(circuit)"
   ]
  },
  {
   "cell_type": "code",
   "execution_count": 9,
   "id": "s-dagger",
   "metadata": {},
   "outputs": [
    {
     "name": "stdout",
     "output_type": "stream",
     "text": [
      "SDG|0⟩\n",
      "State vector: [1.+0.j 0.+0.j]\n",
      "Measurement probabilities: [1. 0.]\n",
      "Expectation value [Z]: 1.0\n",
      "Samples: {'0': 1000} (1000 shots)\n"
     ]
    }
   ],
   "source": [
    "circuit = QuantumCircuit(1)\n",
    "circuit.sdg(0)\n",
    "\n",
    "evaluate_basic_gates(circuit)"
   ]
  },
  {
   "cell_type": "code",
   "execution_count": 10,
   "id": "t-dagger",
   "metadata": {},
   "outputs": [
    {
     "name": "stdout",
     "output_type": "stream",
     "text": [
      "TDG|0⟩\n",
      "State vector: [1.+0.j 0.+0.j]\n",
      "Measurement probabilities: [1. 0.]\n",
      "Expectation value [Z]: 1.0\n",
      "Samples: {'0': 1000} (1000 shots)\n"
     ]
    }
   ],
   "source": [
    "circuit = QuantumCircuit(1)\n",
    "circuit.tdg(0)\n",
    "\n",
    "evaluate_basic_gates(circuit)"
   ]
  }
 ],
 "metadata": {
  "kernelspec": {
   "display_name": "venv",
   "language": "python",
   "name": "python3"
  },
  "language_info": {
   "codemirror_mode": {
    "name": "ipython",
    "version": 3
   },
   "file_extension": ".py",
   "mimetype": "text/x-python",
   "name": "python",
   "nbconvert_exporter": "python",
   "pygments_lexer": "ipython3",
   "version": "3.13.3"
  }
 },
 "nbformat": 4,
 "nbformat_minor": 5
}
