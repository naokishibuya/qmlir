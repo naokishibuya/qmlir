{
 "cells": [
  {
   "cell_type": "markdown",
   "id": "intro",
   "metadata": {},
   "source": [
    "# Basic Gates in QMLIR\n",
    "\n",
    "Fundamental single-qubit gates."
   ]
  },
  {
   "cell_type": "code",
   "execution_count": 1,
   "id": "imports",
   "metadata": {},
   "outputs": [],
   "source": [
    "from qmlir import QuantumCircuit\n",
    "from qmlir.operator import I, X, Y, Z, H\n",
    "from utils import evaluate_circuit"
   ]
  },
  {
   "cell_type": "markdown",
   "id": "4760e247",
   "metadata": {},
   "source": [
    "## Identity Gate"
   ]
  },
  {
   "cell_type": "code",
   "execution_count": 2,
   "id": "identity",
   "metadata": {},
   "outputs": [
    {
     "name": "stdout",
     "output_type": "stream",
     "text": [
      "Circuit: QuantumCircuit(1 qubits):\n",
      "  I|0⟩\n",
      "\n",
      "Compiled MLIR:\n",
      "module {\n",
      "  func.func @main() {\n",
      "    %0 = \"quantum.alloc\"() : () -> i32\n",
      "    \"quantum.i\"(%0) : (i32) -> ()\n",
      "    return\n",
      "  }\n",
      "}\n",
      "\n",
      "State vector: [1.+0.j 0.+0.j]\n",
      "Measurement probabilities: [1. 0.]\n",
      "Expectation value: 1.0\n",
      "Samples: {'0': 1000} (1000 shots)\n"
     ]
    }
   ],
   "source": [
    "circuit = QuantumCircuit(1)\n",
    "with circuit:\n",
    "    I(0)  # Identity gate\n",
    "\n",
    "evaluate_circuit(circuit)"
   ]
  },
  {
   "cell_type": "markdown",
   "id": "0b19c6db",
   "metadata": {},
   "source": [
    "## Pauli-X Gate"
   ]
  },
  {
   "cell_type": "code",
   "execution_count": 3,
   "id": "pauli-x",
   "metadata": {},
   "outputs": [
    {
     "name": "stdout",
     "output_type": "stream",
     "text": [
      "Circuit: QuantumCircuit(3 qubits):\n",
      "  X|0⟩\n",
      "  X|1⟩\n",
      "\n",
      "Compiled MLIR:\n",
      "module {\n",
      "  func.func @main() {\n",
      "    %0 = \"quantum.alloc\"() : () -> i32\n",
      "    %1 = \"quantum.alloc\"() : () -> i32\n",
      "    %2 = \"quantum.alloc\"() : () -> i32\n",
      "    \"quantum.x\"(%0) : (i32) -> ()\n",
      "    \"quantum.x\"(%1) : (i32) -> ()\n",
      "    return\n",
      "  }\n",
      "}\n",
      "\n",
      "State vector: [0.+0.j 0.+0.j 0.+0.j 1.+0.j 0.+0.j 0.+0.j 0.+0.j 0.+0.j]\n",
      "Measurement probabilities: [0. 0. 0. 1. 0. 0. 0. 0.]\n",
      "Expectation value: 1.0\n",
      "Samples: {'011': 1000} (1000 shots)\n"
     ]
    }
   ],
   "source": [
    "with QuantumCircuit(3) as circuit:  # we can do this too\n",
    "    X(0)  # Pauli-X gate on qubit 0\n",
    "    X(1)  # Pauli-X gate on qubit 1\n",
    "\n",
    "evaluate_circuit(circuit, observable=Z(0, 1))"
   ]
  },
  {
   "cell_type": "markdown",
   "id": "136e4b3b",
   "metadata": {},
   "source": [
    "## Cancelling Two X Gate (Self-Inverse)\n",
    "\n",
    "Below is a simple example of cancelling out two `X` gates on the same qubit."
   ]
  },
  {
   "cell_type": "code",
   "execution_count": 4,
   "id": "7438f94a",
   "metadata": {},
   "outputs": [
    {
     "name": "stdout",
     "output_type": "stream",
     "text": [
      "Circuit: QuantumCircuit(2 qubits):\n",
      "  X|0⟩\n",
      "  X|0⟩\n",
      "\n",
      "Compiled MLIR:\n",
      "module {\n",
      "  func.func @main() {\n",
      "    %0 = \"quantum.alloc\"() : () -> i32\n",
      "    %1 = \"quantum.alloc\"() : () -> i32\n",
      "    return\n",
      "  }\n",
      "}\n",
      "\n",
      "State vector: [1.+0.j 0.+0.j 0.+0.j 0.+0.j]\n",
      "Measurement probabilities: [1. 0. 0. 0.]\n",
      "Expectation value: 1.0\n",
      "Samples: {'00': 1000} (1000 shots)\n"
     ]
    }
   ],
   "source": [
    "with QuantumCircuit(2) as circuit:\n",
    "    X(0)\n",
    "    X(0)\n",
    "\n",
    "evaluate_circuit(circuit)"
   ]
  },
  {
   "cell_type": "markdown",
   "id": "8dc91eca",
   "metadata": {},
   "source": [
    "## Pauli-Y Gate"
   ]
  },
  {
   "cell_type": "code",
   "execution_count": 5,
   "id": "pauli-y",
   "metadata": {},
   "outputs": [
    {
     "name": "stdout",
     "output_type": "stream",
     "text": [
      "Circuit: QuantumCircuit(3 qubits):\n",
      "  Y|0⟩\n",
      "\n",
      "Compiled MLIR:\n",
      "module {\n",
      "  func.func @main() {\n",
      "    %0 = \"quantum.alloc\"() : () -> i32\n",
      "    %1 = \"quantum.alloc\"() : () -> i32\n",
      "    %2 = \"quantum.alloc\"() : () -> i32\n",
      "    \"quantum.y\"(%0) : (i32) -> ()\n",
      "    return\n",
      "  }\n",
      "}\n",
      "\n",
      "State vector: [0.+0.j 0.+1.j 0.+0.j 0.+0.j 0.+0.j 0.+0.j 0.+0.j 0.+0.j]\n",
      "Measurement probabilities: [0. 1. 0. 0. 0. 0. 0. 0.]\n",
      "Expectation value: -1.0\n",
      "Samples: {'001': 1000} (1000 shots)\n"
     ]
    }
   ],
   "source": [
    "circuit = QuantumCircuit(3)\n",
    "with circuit:\n",
    "    Y(0)  # Pauli-Y gate\n",
    "\n",
    "evaluate_circuit(circuit)"
   ]
  },
  {
   "cell_type": "markdown",
   "id": "4f6a7959",
   "metadata": {},
   "source": [
    "## Pauli-Z Gate"
   ]
  },
  {
   "cell_type": "code",
   "execution_count": 6,
   "id": "pauli-z",
   "metadata": {},
   "outputs": [
    {
     "name": "stdout",
     "output_type": "stream",
     "text": [
      "Circuit: QuantumCircuit(1 qubits):\n",
      "  Z|0⟩\n",
      "\n",
      "Compiled MLIR:\n",
      "module {\n",
      "  func.func @main() {\n",
      "    %0 = \"quantum.alloc\"() : () -> i32\n",
      "    \"quantum.z\"(%0) : (i32) -> ()\n",
      "    return\n",
      "  }\n",
      "}\n",
      "\n",
      "State vector: [1.+0.j 0.+0.j]\n",
      "Measurement probabilities: [1. 0.]\n",
      "Expectation value: 1.0\n",
      "Samples: {'0': 1000} (1000 shots)\n"
     ]
    }
   ],
   "source": [
    "circuit = QuantumCircuit(1)\n",
    "with circuit:\n",
    "    Z(0)  # Pauli-Z gate\n",
    "\n",
    "evaluate_circuit(circuit)"
   ]
  },
  {
   "cell_type": "markdown",
   "id": "12f32905",
   "metadata": {},
   "source": [
    "## Hadamard Gate"
   ]
  },
  {
   "cell_type": "code",
   "execution_count": 7,
   "id": "hadamard",
   "metadata": {},
   "outputs": [
    {
     "name": "stdout",
     "output_type": "stream",
     "text": [
      "Circuit: QuantumCircuit(1 qubits):\n",
      "  H|0⟩\n",
      "\n",
      "Compiled MLIR:\n",
      "module {\n",
      "  func.func @main() {\n",
      "    %0 = \"quantum.alloc\"() : () -> i32\n",
      "    \"quantum.h\"(%0) : (i32) -> ()\n",
      "    return\n",
      "  }\n",
      "}\n",
      "\n",
      "State vector: [0.70710677+0.j 0.70710677+0.j]\n",
      "Measurement probabilities: [0.49999997 0.49999997]\n",
      "Expectation value: 0.0\n",
      "Samples: {'1': 512, '0': 488} (1000 shots)\n"
     ]
    }
   ],
   "source": [
    "circuit = QuantumCircuit(1)\n",
    "with circuit:\n",
    "    H(0)  # Hadamard gate\n",
    "\n",
    "evaluate_circuit(circuit)"
   ]
  }
 ],
 "metadata": {
  "kernelspec": {
   "display_name": "venv",
   "language": "python",
   "name": "python3"
  },
  "language_info": {
   "codemirror_mode": {
    "name": "ipython",
    "version": 3
   },
   "file_extension": ".py",
   "mimetype": "text/x-python",
   "name": "python",
   "nbconvert_exporter": "python",
   "pygments_lexer": "ipython3",
   "version": "3.13.3"
  }
 },
 "nbformat": 4,
 "nbformat_minor": 5
}
