{
 "cells": [
  {
   "cell_type": "markdown",
   "id": "intro",
   "metadata": {},
   "source": [
    "# Controlled Operations in QMLIR\n",
    "\n",
    "Controlled operations affect a target qubit based on the state of a control qubit."
   ]
  },
  {
   "cell_type": "code",
   "execution_count": 1,
   "id": "imports",
   "metadata": {},
   "outputs": [],
   "source": [
    "from qmlir import QuantumCircuit, Observable, JaxSimulator\n",
    "from qmlir.operator import X, Y, H, CX, CY, CZ\n",
    "\n",
    "\n",
    "def evaluate_operator(circuit: QuantumCircuit, observable: Observable = None, shots: int = 1000):\n",
    "    \"\"\"Test basic quantum operators.\"\"\"\n",
    "    simulator = JaxSimulator()\n",
    "    state = simulator.statevector(circuit)\n",
    "    probs = simulator.probabilities(circuit)\n",
    "    expval = simulator.expectation(circuit, observable)\n",
    "    samples = simulator.measure(circuit, shots)\n",
    "\n",
    "    print(f\"Circuit: {circuit}\")\n",
    "    print(\"\\nCompiled MLIR:\")\n",
    "    print(circuit.compiled_mlir)\n",
    "    print()\n",
    "    print(f\"State vector: {state}\")\n",
    "    print(f\"Measurement probabilities: {probs}\")\n",
    "    print(f\"Expectation value: {expval}\")\n",
    "    print(f\"Samples: {samples} ({shots} shots)\")"
   ]
  },
  {
   "cell_type": "markdown",
   "id": "2b88c52e",
   "metadata": {},
   "source": [
    "## CX Operators (CNOT)\n",
    "\n",
    "The CX gate (CNOT) is a controlled NOT operation. It applies X to the target qubit if the control qubit is in the |1⟩ state.\n",
    "\n",
    "In other words, it flips the target qubit if the control qubit is in the |1⟩ state."
   ]
  },
  {
   "cell_type": "code",
   "execution_count": 2,
   "id": "1393b9cf",
   "metadata": {},
   "outputs": [
    {
     "name": "stdout",
     "output_type": "stream",
     "text": [
      "Circuit: QuantumCircuit(2 qubits):\n",
      "  H|0⟩\n",
      "  CX|0, 1⟩\n",
      "\n",
      "Compiled MLIR:\n",
      "module {\n",
      "  func.func @main() {\n",
      "    %0 = \"quantum.alloc\"() : () -> i32\n",
      "    %1 = \"quantum.alloc\"() : () -> i32\n",
      "    \"quantum.h\"(%0) : (i32) -> ()\n",
      "    \"quantum.cx\"(%0, %1) : (i32, i32) -> ()\n",
      "    return\n",
      "  }\n",
      "}\n",
      "\n",
      "State vector: [0.70710677+0.j 0.        +0.j 0.        +0.j 0.70710677+0.j]\n",
      "Measurement probabilities: [0.49999997 0.         0.         0.49999997]\n",
      "Expectation value: 0.9999999657714582\n",
      "Samples: {'11': 512, '00': 488} (1000 shots)\n"
     ]
    }
   ],
   "source": [
    "circuit = QuantumCircuit(2)\n",
    "with circuit:\n",
    "    H(0)  # Hadamard gate on qubit 0\n",
    "    CX(0, 1)  # CNOT gate with control qubit\n",
    "\n",
    "evaluate_operator(circuit)"
   ]
  },
  {
   "cell_type": "markdown",
   "id": "fe682ba3",
   "metadata": {},
   "source": [
    "## CY Operators\n",
    "\n",
    "The CY gate is a controlled Y operation. It applies Y to the target qubit if the control qubit is in the |1⟩ state."
   ]
  },
  {
   "cell_type": "code",
   "execution_count": 3,
   "id": "22195c4c",
   "metadata": {},
   "outputs": [
    {
     "name": "stdout",
     "output_type": "stream",
     "text": [
      "Circuit: QuantumCircuit(2 qubits):\n",
      "  Y|0⟩\n",
      "  CY|0, 1⟩\n",
      "\n",
      "Compiled MLIR:\n",
      "module {\n",
      "  func.func @main() {\n",
      "    %0 = \"quantum.alloc\"() : () -> i32\n",
      "    %1 = \"quantum.alloc\"() : () -> i32\n",
      "    \"quantum.y\"(%0) : (i32) -> ()\n",
      "    \"quantum.cy\"(%0, %1) : (i32, i32) -> ()\n",
      "    return\n",
      "  }\n",
      "}\n",
      "\n",
      "State vector: [ 0.+0.j  0.+0.j  0.+0.j -1.+0.j]\n",
      "Measurement probabilities: [0. 0. 0. 1.]\n",
      "Expectation value: 1.0\n",
      "Samples: {'11': 1000} (1000 shots)\n"
     ]
    }
   ],
   "source": [
    "circuit = QuantumCircuit(2)\n",
    "with circuit:\n",
    "    Y(0)  # Pauli-Y gate on control qubit\n",
    "    CY(0, 1)  # Controlled-Y gate with control qubit\n",
    "\n",
    "evaluate_operator(circuit)"
   ]
  },
  {
   "cell_type": "markdown",
   "id": "8240644a",
   "metadata": {},
   "source": [
    "## CZ Operators\n",
    "\n",
    "The CZ gate is a controlled Z operation. It applies Z to the target qubit if the control qubit is in the |1⟩ state."
   ]
  },
  {
   "cell_type": "code",
   "execution_count": 4,
   "id": "3317e2f8",
   "metadata": {},
   "outputs": [
    {
     "name": "stdout",
     "output_type": "stream",
     "text": [
      "Circuit: QuantumCircuit(2 qubits):\n",
      "  X|0⟩\n",
      "  CZ|0, 1⟩\n",
      "\n",
      "Compiled MLIR:\n",
      "module {\n",
      "  func.func @main() {\n",
      "    %0 = \"quantum.alloc\"() : () -> i32\n",
      "    %1 = \"quantum.alloc\"() : () -> i32\n",
      "    \"quantum.x\"(%0) : (i32) -> ()\n",
      "    \"quantum.cz\"(%0, %1) : (i32, i32) -> ()\n",
      "    return\n",
      "  }\n",
      "}\n",
      "\n",
      "State vector: [0.+0.j 1.+0.j 0.+0.j 0.+0.j]\n",
      "Measurement probabilities: [0. 1. 0. 0.]\n",
      "Expectation value: -1.0\n",
      "Samples: {'01': 1000} (1000 shots)\n"
     ]
    }
   ],
   "source": [
    "circuit = QuantumCircuit(2)\n",
    "with circuit:\n",
    "    X(0)  # Pauli-Z gate on control qubit\n",
    "    CZ(0, 1)  # Controlled-Z gate with control qubit\n",
    "\n",
    "evaluate_operator(circuit)"
   ]
  }
 ],
 "metadata": {
  "kernelspec": {
   "display_name": "venv",
   "language": "python",
   "name": "python3"
  },
  "language_info": {
   "codemirror_mode": {
    "name": "ipython",
    "version": 3
   },
   "file_extension": ".py",
   "mimetype": "text/x-python",
   "name": "python",
   "nbconvert_exporter": "python",
   "pygments_lexer": "ipython3",
   "version": "3.13.3"
  }
 },
 "nbformat": 4,
 "nbformat_minor": 5
}
