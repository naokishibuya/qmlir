{
 "cells": [
  {
   "cell_type": "markdown",
   "id": "intro",
   "metadata": {},
   "source": [
    "# Entanglement in QMLIR\n",
    "\n",
    "Entanglement is a strong correlation between qubits that cannot be described by classical means. "
   ]
  },
  {
   "cell_type": "code",
   "execution_count": 1,
   "id": "imports",
   "metadata": {},
   "outputs": [],
   "source": [
    "from qmlir import QuantumCircuit\n",
    "from qmlir.operator import Z, H, CX\n",
    "from utils import evaluate_circuit"
   ]
  },
  {
   "cell_type": "markdown",
   "id": "2b88c52e",
   "metadata": {},
   "source": [
    "## Bell State\n",
    "\n",
    "A common example of entanglement is the Bell state, which is a maximally entangled state of two qubits. The Bell state can be created using a Hadamard gate followed by a controlled-X gate (CNOT)."
   ]
  },
  {
   "cell_type": "code",
   "execution_count": 2,
   "id": "1393b9cf",
   "metadata": {},
   "outputs": [
    {
     "name": "stdout",
     "output_type": "stream",
     "text": [
      "Circuit: QuantumCircuit(2 qubits):\n",
      "  H|0⟩\n",
      "  CX|0, 1⟩\n",
      "\n",
      "Compiled MLIR:\n",
      "module {\n",
      "  func.func @main() {\n",
      "    %0 = \"quantum.alloc\"() : () -> i32\n",
      "    %1 = \"quantum.alloc\"() : () -> i32\n",
      "    \"quantum.h\"(%0) : (i32) -> ()\n",
      "    \"quantum.cx\"(%0, %1) : (i32, i32) -> ()\n",
      "    return\n",
      "  }\n",
      "}\n",
      "\n",
      "State vector: [0.70710677+0.j 0.        +0.j 0.        +0.j 0.70710677+0.j]\n",
      "Measurement probabilities: [0.49999997 0.         0.         0.49999997]\n",
      "Expectation value: 0.9999999657714582\n",
      "Samples: {'11': 512, '00': 488} (1000 shots)\n"
     ]
    }
   ],
   "source": [
    "circuit = QuantumCircuit(2)\n",
    "with circuit:\n",
    "    H(0)  # Hadamard gate on qubit 0\n",
    "    CX(0, 1)  # CNOT gate with control qubit\n",
    "\n",
    "# Compose an observable: Z(0) ⊗ Z(1)\n",
    "observable = Z(0, 1) # or Z(0) @ Z(1)\n",
    "\n",
    "evaluate_circuit(circuit, observable)"
   ]
  }
 ],
 "metadata": {
  "kernelspec": {
   "display_name": "venv",
   "language": "python",
   "name": "python3"
  },
  "language_info": {
   "codemirror_mode": {
    "name": "ipython",
    "version": 3
   },
   "file_extension": ".py",
   "mimetype": "text/x-python",
   "name": "python",
   "nbconvert_exporter": "python",
   "pygments_lexer": "ipython3",
   "version": "3.13.3"
  }
 },
 "nbformat": 4,
 "nbformat_minor": 5
}
