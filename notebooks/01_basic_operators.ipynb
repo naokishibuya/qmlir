{
 "cells": [
  {
   "cell_type": "markdown",
   "id": "intro",
   "metadata": {},
   "source": [
    "# Basic Operators\n",
    "\n",
    "Fundamental single-qubit operations."
   ]
  },
  {
   "cell_type": "code",
   "execution_count": 1,
   "id": "imports",
   "metadata": {},
   "outputs": [],
   "source": [
    "from qmlir import QuantumCircuit, JaxSimulator\n",
    "from qmlir.operator import I, X, Y, Z, H, S, T, Sdg, Tdg\n",
    "\n",
    "\n",
    "def evaluate_operator(circuit: QuantumCircuit, observable: str = \"Z\", shots: int = 1000):\n",
    "    \"\"\"Test basic quantum operators.\"\"\"\n",
    "    simulator = JaxSimulator()\n",
    "    state = simulator.statevector(circuit)\n",
    "    probs = simulator.probabilities(circuit)\n",
    "    expval = simulator.expectation(circuit, observable)\n",
    "    samples = simulator.measure(circuit, shots)\n",
    "\n",
    "    for op in circuit.operators:\n",
    "        print(f\"{op}\")\n",
    "        print(f\"State vector: {state}\")\n",
    "        print(f\"Measurement probabilities: {probs}\")\n",
    "        print(f\"Expectation value [{observable}]: {expval}\")\n",
    "        print(f\"Samples: {samples} ({shots} shots)\")\n"
   ]
  },
  {
   "cell_type": "code",
   "execution_count": 2,
   "id": "identity",
   "metadata": {},
   "outputs": [
    {
     "name": "stdout",
     "output_type": "stream",
     "text": [
      "I|q0⟩\n",
      "State vector: [1.+0.j 0.+0.j]\n",
      "Measurement probabilities: [1. 0.]\n",
      "Expectation value [Z]: 1.0\n",
      "Samples: {'0': 1000} (1000 shots)\n"
     ]
    }
   ],
   "source": [
    "circuit = QuantumCircuit(1)\n",
    "with circuit:\n",
    "    I(0)  # Identity gate\n",
    "\n",
    "evaluate_operator(circuit)"
   ]
  },
  {
   "cell_type": "code",
   "execution_count": 3,
   "id": "pauli-x",
   "metadata": {},
   "outputs": [
    {
     "name": "stdout",
     "output_type": "stream",
     "text": [
      "X|q0⟩\n",
      "State vector: [0.+0.j 1.+0.j]\n",
      "Measurement probabilities: [0. 1.]\n",
      "Expectation value [Z]: -1.0\n",
      "Samples: {'1': 1000} (1000 shots)\n"
     ]
    }
   ],
   "source": [
    "with QuantumCircuit(1) as circuit:  # we can do this too\n",
    "    X(0)  # Pauli-X gate\n",
    "\n",
    "evaluate_operator(circuit)"
   ]
  },
  {
   "cell_type": "code",
   "execution_count": 4,
   "id": "pauli-y",
   "metadata": {},
   "outputs": [
    {
     "name": "stdout",
     "output_type": "stream",
     "text": [
      "Y|q0⟩\n",
      "State vector: [0.+0.j 0.+1.j]\n",
      "Measurement probabilities: [0. 1.]\n",
      "Expectation value [Z]: -1.0\n",
      "Samples: {'1': 1000} (1000 shots)\n"
     ]
    }
   ],
   "source": [
    "circuit = QuantumCircuit(1)\n",
    "with circuit:\n",
    "    Y(0)  # Pauli-Y gate\n",
    "\n",
    "evaluate_operator(circuit)"
   ]
  },
  {
   "cell_type": "code",
   "execution_count": 5,
   "id": "pauli-z",
   "metadata": {},
   "outputs": [
    {
     "name": "stdout",
     "output_type": "stream",
     "text": [
      "Z|q0⟩\n",
      "State vector: [1.+0.j 0.+0.j]\n",
      "Measurement probabilities: [1. 0.]\n",
      "Expectation value [Z]: 1.0\n",
      "Samples: {'0': 1000} (1000 shots)\n"
     ]
    }
   ],
   "source": [
    "circuit = QuantumCircuit(1)\n",
    "with circuit:\n",
    "    Z(0)  # Pauli-Z gate\n",
    "\n",
    "evaluate_operator(circuit)"
   ]
  },
  {
   "cell_type": "code",
   "execution_count": 6,
   "id": "hadamard",
   "metadata": {},
   "outputs": [
    {
     "name": "stdout",
     "output_type": "stream",
     "text": [
      "H|q0⟩\n",
      "State vector: [0.70710677+0.j 0.70710677+0.j]\n",
      "Measurement probabilities: [0.49999997 0.49999997]\n",
      "Expectation value [Z]: 0.0\n",
      "Samples: {'1': 512, '0': 488} (1000 shots)\n"
     ]
    }
   ],
   "source": [
    "circuit = QuantumCircuit(1)\n",
    "with circuit:\n",
    "    H(0)  # Hadamard gate\n",
    "\n",
    "evaluate_operator(circuit)"
   ]
  },
  {
   "cell_type": "code",
   "execution_count": 7,
   "id": "s-gate",
   "metadata": {},
   "outputs": [
    {
     "name": "stdout",
     "output_type": "stream",
     "text": [
      "S|q0⟩\n",
      "State vector: [1.+0.j 0.+0.j]\n",
      "Measurement probabilities: [1. 0.]\n",
      "Expectation value [Z]: 1.0\n",
      "Samples: {'0': 1000} (1000 shots)\n"
     ]
    }
   ],
   "source": [
    "circuit = QuantumCircuit(1)\n",
    "with circuit:\n",
    "    S(0)  # S gate\n",
    "\n",
    "evaluate_operator(circuit)"
   ]
  },
  {
   "cell_type": "code",
   "execution_count": 8,
   "id": "t-gate",
   "metadata": {},
   "outputs": [
    {
     "name": "stdout",
     "output_type": "stream",
     "text": [
      "T|q0⟩\n",
      "State vector: [1.+0.j 0.+0.j]\n",
      "Measurement probabilities: [1. 0.]\n",
      "Expectation value [Z]: 1.0\n",
      "Samples: {'0': 1000} (1000 shots)\n"
     ]
    }
   ],
   "source": [
    "circuit = QuantumCircuit(1)\n",
    "with circuit:\n",
    "    T(0)  # T gate\n",
    "\n",
    "evaluate_operator(circuit)"
   ]
  },
  {
   "cell_type": "code",
   "execution_count": 9,
   "id": "s-dagger",
   "metadata": {},
   "outputs": [
    {
     "name": "stdout",
     "output_type": "stream",
     "text": [
      "Sdg|q0⟩\n",
      "State vector: [1.+0.j 0.+0.j]\n",
      "Measurement probabilities: [1. 0.]\n",
      "Expectation value [Z]: 1.0\n",
      "Samples: {'0': 1000} (1000 shots)\n"
     ]
    }
   ],
   "source": [
    "circuit = QuantumCircuit(1)\n",
    "with circuit:\n",
    "    Sdg(0)  # T-dagger gate\n",
    "\n",
    "evaluate_operator(circuit)"
   ]
  },
  {
   "cell_type": "code",
   "execution_count": 10,
   "id": "t-dagger",
   "metadata": {},
   "outputs": [
    {
     "name": "stdout",
     "output_type": "stream",
     "text": [
      "Tdg|q0⟩\n",
      "State vector: [1.+0.j 0.+0.j]\n",
      "Measurement probabilities: [1. 0.]\n",
      "Expectation value [Z]: 1.0\n",
      "Samples: {'0': 1000} (1000 shots)\n"
     ]
    }
   ],
   "source": [
    "circuit = QuantumCircuit(1)\n",
    "with circuit:\n",
    "    Tdg(0)  # T-dagger gate\n",
    "\n",
    "evaluate_operator(circuit)"
   ]
  }
 ],
 "metadata": {
  "kernelspec": {
   "display_name": "venv",
   "language": "python",
   "name": "python3"
  },
  "language_info": {
   "codemirror_mode": {
    "name": "ipython",
    "version": 3
   },
   "file_extension": ".py",
   "mimetype": "text/x-python",
   "name": "python",
   "nbconvert_exporter": "python",
   "pygments_lexer": "ipython3",
   "version": "3.13.3"
  }
 },
 "nbformat": 4,
 "nbformat_minor": 5
}
