{
 "cells": [
  {
   "cell_type": "markdown",
   "id": "intro",
   "metadata": {},
   "source": [
    "# Basic Operations in QMLIR\n",
    "\n",
    "Fundamental single-qubit operations."
   ]
  },
  {
   "cell_type": "code",
   "execution_count": 1,
   "id": "imports",
   "metadata": {},
   "outputs": [],
   "source": [
    "from qmlir import QuantumCircuit, Observable, JaxSimulator\n",
    "from qmlir.operator import I, X, Y, Z, H\n",
    "\n",
    "\n",
    "def evaluate_operator(circuit: QuantumCircuit, observable: Observable = None, shots: int = 1000):\n",
    "    \"\"\"Test basic quantum operators.\"\"\"\n",
    "    simulator = JaxSimulator()\n",
    "    state = simulator.statevector(circuit)\n",
    "    probs = simulator.probabilities(circuit)\n",
    "    expval = simulator.expectation(circuit, observable)\n",
    "    samples = simulator.measure(circuit, shots)\n",
    "\n",
    "    print(f\"Circuit: {circuit}\")\n",
    "    print(\"\\nCompiled MLIR:\")\n",
    "    print(circuit.compiled_mlir)\n",
    "    print()\n",
    "    print(f\"State vector: {state}\")\n",
    "    print(f\"Measurement probabilities: {probs}\")\n",
    "    print(f\"Expectation value: {expval}\")\n",
    "    print(f\"Samples: {samples} ({shots} shots)\")"
   ]
  },
  {
   "cell_type": "markdown",
   "id": "4760e247",
   "metadata": {},
   "source": [
    "## Identity Operation"
   ]
  },
  {
   "cell_type": "code",
   "execution_count": 2,
   "id": "identity",
   "metadata": {},
   "outputs": [
    {
     "name": "stdout",
     "output_type": "stream",
     "text": [
      "Circuit: QuantumCircuit(1 qubits):\n",
      "  I|0⟩\n",
      "\n",
      "Compiled MLIR:\n",
      "module {\n",
      "  func.func @main() {\n",
      "    %0 = \"quantum.alloc\"() : () -> i32\n",
      "    \"quantum.i\"(%0) : (i32) -> ()\n",
      "    return\n",
      "  }\n",
      "}\n",
      "\n",
      "State vector: [1.+0.j 0.+0.j]\n",
      "Measurement probabilities: [1. 0.]\n",
      "Expectation value: 1.0\n",
      "Samples: {'0': 1000} (1000 shots)\n"
     ]
    }
   ],
   "source": [
    "circuit = QuantumCircuit(1)\n",
    "with circuit:\n",
    "    I(0)  # Identity gate\n",
    "\n",
    "evaluate_operator(circuit)"
   ]
  },
  {
   "cell_type": "markdown",
   "id": "0b19c6db",
   "metadata": {},
   "source": [
    "## Pauli-X Operation"
   ]
  },
  {
   "cell_type": "code",
   "execution_count": 3,
   "id": "pauli-x",
   "metadata": {},
   "outputs": [
    {
     "name": "stdout",
     "output_type": "stream",
     "text": [
      "Circuit: QuantumCircuit(3 qubits):\n",
      "  X|0⟩\n",
      "  X|1⟩\n",
      "\n",
      "Compiled MLIR:\n",
      "module {\n",
      "  func.func @main() {\n",
      "    %0 = \"quantum.alloc\"() : () -> i32\n",
      "    %1 = \"quantum.alloc\"() : () -> i32\n",
      "    %2 = \"quantum.alloc\"() : () -> i32\n",
      "    \"quantum.x\"(%0) : (i32) -> ()\n",
      "    \"quantum.x\"(%1) : (i32) -> ()\n",
      "    return\n",
      "  }\n",
      "}\n",
      "\n",
      "State vector: [0.+0.j 0.+0.j 0.+0.j 1.+0.j 0.+0.j 0.+0.j 0.+0.j 0.+0.j]\n",
      "Measurement probabilities: [0. 0. 0. 1. 0. 0. 0. 0.]\n",
      "Expectation value: 1.0\n",
      "Samples: {'011': 1000} (1000 shots)\n"
     ]
    }
   ],
   "source": [
    "with QuantumCircuit(3) as circuit:  # we can do this too\n",
    "    X(0)  # Pauli-X gate on qubit 0\n",
    "    X(1)  # Pauli-X gate on qubit 1\n",
    "\n",
    "evaluate_operator(circuit, observable=Z(0, 1))"
   ]
  },
  {
   "cell_type": "markdown",
   "id": "136e4b3b",
   "metadata": {},
   "source": [
    "## Cancelling Two X Operations (Self-Inverse)\n",
    "\n",
    "Below is a simple example of cancelling out two `X` gates on the same qubit."
   ]
  },
  {
   "cell_type": "code",
   "execution_count": 4,
   "id": "7438f94a",
   "metadata": {},
   "outputs": [
    {
     "name": "stdout",
     "output_type": "stream",
     "text": [
      "Circuit: QuantumCircuit(2 qubits):\n",
      "  X|0⟩\n",
      "  X|0⟩\n",
      "\n",
      "Compiled MLIR:\n",
      "module {\n",
      "  func.func @main() {\n",
      "    %0 = \"quantum.alloc\"() : () -> i32\n",
      "    %1 = \"quantum.alloc\"() : () -> i32\n",
      "    return\n",
      "  }\n",
      "}\n",
      "\n",
      "State vector: [1.+0.j 0.+0.j 0.+0.j 0.+0.j]\n",
      "Measurement probabilities: [1. 0. 0. 0.]\n",
      "Expectation value: 1.0\n",
      "Samples: {'00': 1000} (1000 shots)\n"
     ]
    }
   ],
   "source": [
    "with QuantumCircuit(2) as circuit:\n",
    "    X(0)\n",
    "    X(0)\n",
    "\n",
    "evaluate_operator(circuit)"
   ]
  },
  {
   "cell_type": "markdown",
   "id": "8dc91eca",
   "metadata": {},
   "source": [
    "## Pauli-Y Operation"
   ]
  },
  {
   "cell_type": "code",
   "execution_count": 5,
   "id": "pauli-y",
   "metadata": {},
   "outputs": [
    {
     "name": "stdout",
     "output_type": "stream",
     "text": [
      "Circuit: QuantumCircuit(3 qubits):\n",
      "  Y|0⟩\n",
      "\n",
      "Compiled MLIR:\n",
      "module {\n",
      "  func.func @main() {\n",
      "    %0 = \"quantum.alloc\"() : () -> i32\n",
      "    %1 = \"quantum.alloc\"() : () -> i32\n",
      "    %2 = \"quantum.alloc\"() : () -> i32\n",
      "    \"quantum.y\"(%0) : (i32) -> ()\n",
      "    return\n",
      "  }\n",
      "}\n",
      "\n",
      "State vector: [0.+0.j 0.+1.j 0.+0.j 0.+0.j 0.+0.j 0.+0.j 0.+0.j 0.+0.j]\n",
      "Measurement probabilities: [0. 1. 0. 0. 0. 0. 0. 0.]\n",
      "Expectation value: -1.0\n",
      "Samples: {'001': 1000} (1000 shots)\n"
     ]
    }
   ],
   "source": [
    "circuit = QuantumCircuit(3)\n",
    "with circuit:\n",
    "    Y(0)  # Pauli-Y gate\n",
    "\n",
    "evaluate_operator(circuit)"
   ]
  },
  {
   "cell_type": "markdown",
   "id": "4f6a7959",
   "metadata": {},
   "source": [
    "## Pauli-Z Operation"
   ]
  },
  {
   "cell_type": "code",
   "execution_count": 6,
   "id": "pauli-z",
   "metadata": {},
   "outputs": [
    {
     "name": "stdout",
     "output_type": "stream",
     "text": [
      "Circuit: QuantumCircuit(1 qubits):\n",
      "  Z|0⟩\n",
      "\n",
      "Compiled MLIR:\n",
      "module {\n",
      "  func.func @main() {\n",
      "    %0 = \"quantum.alloc\"() : () -> i32\n",
      "    \"quantum.z\"(%0) : (i32) -> ()\n",
      "    return\n",
      "  }\n",
      "}\n",
      "\n",
      "State vector: [1.+0.j 0.+0.j]\n",
      "Measurement probabilities: [1. 0.]\n",
      "Expectation value: 1.0\n",
      "Samples: {'0': 1000} (1000 shots)\n"
     ]
    }
   ],
   "source": [
    "circuit = QuantumCircuit(1)\n",
    "with circuit:\n",
    "    Z(0)  # Pauli-Z gate\n",
    "\n",
    "evaluate_operator(circuit)"
   ]
  },
  {
   "cell_type": "markdown",
   "id": "12f32905",
   "metadata": {},
   "source": [
    "## Hadamard Operation"
   ]
  },
  {
   "cell_type": "code",
   "execution_count": 7,
   "id": "hadamard",
   "metadata": {},
   "outputs": [
    {
     "name": "stdout",
     "output_type": "stream",
     "text": [
      "Circuit: QuantumCircuit(1 qubits):\n",
      "  H|0⟩\n",
      "\n",
      "Compiled MLIR:\n",
      "module {\n",
      "  func.func @main() {\n",
      "    %0 = \"quantum.alloc\"() : () -> i32\n",
      "    \"quantum.h\"(%0) : (i32) -> ()\n",
      "    return\n",
      "  }\n",
      "}\n",
      "\n",
      "State vector: [0.70710677+0.j 0.70710677+0.j]\n",
      "Measurement probabilities: [0.49999997 0.49999997]\n",
      "Expectation value: 0.0\n",
      "Samples: {'1': 512, '0': 488} (1000 shots)\n"
     ]
    }
   ],
   "source": [
    "circuit = QuantumCircuit(1)\n",
    "with circuit:\n",
    "    H(0)  # Hadamard gate\n",
    "\n",
    "evaluate_operator(circuit)"
   ]
  }
 ],
 "metadata": {
  "kernelspec": {
   "display_name": "venv",
   "language": "python",
   "name": "python3"
  },
  "language_info": {
   "codemirror_mode": {
    "name": "ipython",
    "version": 3
   },
   "file_extension": ".py",
   "mimetype": "text/x-python",
   "name": "python",
   "nbconvert_exporter": "python",
   "pygments_lexer": "ipython3",
   "version": "3.13.3"
  }
 },
 "nbformat": 4,
 "nbformat_minor": 5
}
