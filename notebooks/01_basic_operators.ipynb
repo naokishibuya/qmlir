{
 "cells": [
  {
   "cell_type": "markdown",
   "id": "intro",
   "metadata": {},
   "source": [
    "# Basic Operations in QMLIR\n",
    "\n",
    "Fundamental single-qubit operations."
   ]
  },
  {
   "cell_type": "code",
   "execution_count": 1,
   "id": "imports",
   "metadata": {},
   "outputs": [],
   "source": [
    "from qmlir import QuantumCircuit, JaxSimulator, Parameter\n",
    "from qmlir.operator import I, X, Y, Z, H, S, T, Sdg, Tdg, RX, RY, RZ, CX, CY, CZ\n",
    "\n",
    "\n",
    "def evaluate_operator(circuit: QuantumCircuit, observable: str = \"Z\", shots: int = 1000):\n",
    "    \"\"\"Test basic quantum operators.\"\"\"\n",
    "    simulator = JaxSimulator()\n",
    "    state = simulator.statevector(circuit)\n",
    "    probs = simulator.probabilities(circuit)\n",
    "    expval = simulator.expectation(circuit, observable)\n",
    "    samples = simulator.measure(circuit, shots)\n",
    "\n",
    "    print(f\"Circuit: {circuit}\")\n",
    "    print(f\"State vector: {state}\")\n",
    "    print(f\"Measurement probabilities: {probs}\")\n",
    "    print(f\"Expectation value [{observable}]: {expval}\")\n",
    "    print(f\"Samples: {samples} ({shots} shots)\")\n"
   ]
  },
  {
   "cell_type": "markdown",
   "id": "a835fa4a",
   "metadata": {},
   "source": [
    "## Identity, Pauli and Hadamard Operators"
   ]
  },
  {
   "cell_type": "code",
   "execution_count": 2,
   "id": "identity",
   "metadata": {},
   "outputs": [
    {
     "name": "stdout",
     "output_type": "stream",
     "text": [
      "Circuit: QuantumCircuit(1 qubits):\n",
      "  I|0⟩\n",
      "State vector: [1.+0.j 0.+0.j]\n",
      "Measurement probabilities: [1. 0.]\n",
      "Expectation value [Z]: 1.0\n",
      "Samples: {'0': 1000} (1000 shots)\n"
     ]
    }
   ],
   "source": [
    "circuit = QuantumCircuit(1)\n",
    "with circuit:\n",
    "    I(0)  # Identity gate\n",
    "\n",
    "evaluate_operator(circuit)"
   ]
  },
  {
   "cell_type": "code",
   "execution_count": 3,
   "id": "pauli-x",
   "metadata": {},
   "outputs": [
    {
     "name": "stdout",
     "output_type": "stream",
     "text": [
      "Circuit: QuantumCircuit(3 qubits):\n",
      "  X|0⟩\n",
      "  X|1⟩\n",
      "State vector: [0.+0.j 0.+0.j 0.+0.j 1.+0.j 0.+0.j 0.+0.j 0.+0.j 0.+0.j]\n",
      "Measurement probabilities: [0. 0. 0. 1. 0. 0. 0. 0.]\n",
      "Expectation value [Z]: 0.0\n",
      "Samples: {'011': 1000} (1000 shots)\n"
     ]
    }
   ],
   "source": [
    "with QuantumCircuit(3) as circuit:  # we can do this too\n",
    "    X(0)  # Pauli-X gate on qubit 0\n",
    "    X(1)  # Pauli-X gate on qubit 1\n",
    "\n",
    "evaluate_operator(circuit)"
   ]
  },
  {
   "cell_type": "code",
   "execution_count": 4,
   "id": "pauli-y",
   "metadata": {},
   "outputs": [
    {
     "name": "stdout",
     "output_type": "stream",
     "text": [
      "Circuit: QuantumCircuit(3 qubits):\n",
      "  Y|0⟩\n",
      "State vector: [0.+0.j 0.+1.j 0.+0.j 0.+0.j 0.+0.j 0.+0.j 0.+0.j 0.+0.j]\n",
      "Measurement probabilities: [0. 1. 0. 0. 0. 0. 0. 0.]\n",
      "Expectation value [Z]: -1.0\n",
      "Samples: {'001': 1000} (1000 shots)\n"
     ]
    }
   ],
   "source": [
    "circuit = QuantumCircuit(3)\n",
    "with circuit:\n",
    "    Y(0)  # Pauli-Y gate\n",
    "\n",
    "evaluate_operator(circuit)"
   ]
  },
  {
   "cell_type": "code",
   "execution_count": 5,
   "id": "pauli-z",
   "metadata": {},
   "outputs": [
    {
     "name": "stdout",
     "output_type": "stream",
     "text": [
      "Circuit: QuantumCircuit(1 qubits):\n",
      "  Z|0⟩\n",
      "State vector: [1.+0.j 0.+0.j]\n",
      "Measurement probabilities: [1. 0.]\n",
      "Expectation value [Z]: 1.0\n",
      "Samples: {'0': 1000} (1000 shots)\n"
     ]
    }
   ],
   "source": [
    "circuit = QuantumCircuit(1)\n",
    "with circuit:\n",
    "    Z(0)  # Pauli-Z gate\n",
    "\n",
    "evaluate_operator(circuit)"
   ]
  },
  {
   "cell_type": "code",
   "execution_count": 6,
   "id": "hadamard",
   "metadata": {},
   "outputs": [
    {
     "name": "stdout",
     "output_type": "stream",
     "text": [
      "Circuit: QuantumCircuit(1 qubits):\n",
      "  H|0⟩\n",
      "State vector: [0.70710677+0.j 0.70710677+0.j]\n",
      "Measurement probabilities: [0.49999997 0.49999997]\n",
      "Expectation value [Z]: 0.0\n",
      "Samples: {'1': 512, '0': 488} (1000 shots)\n"
     ]
    }
   ],
   "source": [
    "circuit = QuantumCircuit(1)\n",
    "with circuit:\n",
    "    H(0)  # Hadamard gate\n",
    "\n",
    "evaluate_operator(circuit)"
   ]
  },
  {
   "cell_type": "markdown",
   "id": "413aa6cf",
   "metadata": {},
   "source": [
    "## Phase Operators"
   ]
  },
  {
   "cell_type": "code",
   "execution_count": 7,
   "id": "s-gate",
   "metadata": {},
   "outputs": [
    {
     "name": "stdout",
     "output_type": "stream",
     "text": [
      "Circuit: QuantumCircuit(1 qubits):\n",
      "  S|0⟩\n",
      "State vector: [1.+0.j 0.+0.j]\n",
      "Measurement probabilities: [1. 0.]\n",
      "Expectation value [Z]: 1.0\n",
      "Samples: {'0': 1000} (1000 shots)\n"
     ]
    }
   ],
   "source": [
    "circuit = QuantumCircuit(1)\n",
    "with circuit:\n",
    "    S(0)  # S gate\n",
    "\n",
    "evaluate_operator(circuit)"
   ]
  },
  {
   "cell_type": "code",
   "execution_count": 8,
   "id": "t-gate",
   "metadata": {},
   "outputs": [
    {
     "name": "stdout",
     "output_type": "stream",
     "text": [
      "Circuit: QuantumCircuit(1 qubits):\n",
      "  T|0⟩\n",
      "State vector: [1.+0.j 0.+0.j]\n",
      "Measurement probabilities: [1. 0.]\n",
      "Expectation value [Z]: 1.0\n",
      "Samples: {'0': 1000} (1000 shots)\n"
     ]
    }
   ],
   "source": [
    "circuit = QuantumCircuit(1)\n",
    "with circuit:\n",
    "    T(0)  # T gate\n",
    "\n",
    "evaluate_operator(circuit)"
   ]
  },
  {
   "cell_type": "code",
   "execution_count": 9,
   "id": "s-dagger",
   "metadata": {},
   "outputs": [
    {
     "name": "stdout",
     "output_type": "stream",
     "text": [
      "Circuit: QuantumCircuit(1 qubits):\n",
      "  Sdg|0⟩\n",
      "State vector: [1.+0.j 0.+0.j]\n",
      "Measurement probabilities: [1. 0.]\n",
      "Expectation value [Z]: 1.0\n",
      "Samples: {'0': 1000} (1000 shots)\n"
     ]
    }
   ],
   "source": [
    "circuit = QuantumCircuit(1)\n",
    "with circuit:\n",
    "    Sdg(0)  # S-dagger gate\n",
    "\n",
    "evaluate_operator(circuit)"
   ]
  },
  {
   "cell_type": "code",
   "execution_count": 10,
   "id": "t-dagger",
   "metadata": {},
   "outputs": [
    {
     "name": "stdout",
     "output_type": "stream",
     "text": [
      "Circuit: QuantumCircuit(1 qubits):\n",
      "  Tdg|0⟩\n",
      "State vector: [1.+0.j 0.+0.j]\n",
      "Measurement probabilities: [1. 0.]\n",
      "Expectation value [Z]: 1.0\n",
      "Samples: {'0': 1000} (1000 shots)\n"
     ]
    }
   ],
   "source": [
    "circuit = QuantumCircuit(1)\n",
    "with circuit:\n",
    "    Tdg(0)  # T-dagger gate\n",
    "\n",
    "evaluate_operator(circuit)"
   ]
  },
  {
   "cell_type": "markdown",
   "id": "15abe904",
   "metadata": {},
   "source": [
    "## Rotation Operators"
   ]
  },
  {
   "cell_type": "code",
   "execution_count": 11,
   "id": "49d64493",
   "metadata": {},
   "outputs": [
    {
     "name": "stdout",
     "output_type": "stream",
     "text": [
      "Circuit: QuantumCircuit(1 qubits):\n",
      "  RX(param_5553347e=1.5707963267948966)|0⟩\n",
      "State vector: [0.70710677+0.j         0.        -0.70710677j]\n",
      "Measurement probabilities: [0.49999997 0.49999997]\n",
      "Expectation value [Z]: 0.0\n",
      "Samples: {'1': 512, '0': 488} (1000 shots)\n"
     ]
    }
   ],
   "source": [
    "import numpy as np\n",
    "\n",
    "circuit = QuantumCircuit(1)\n",
    "with circuit:\n",
    "    RX(np.pi / 2)(0)  # RX rotation gate\n",
    "\n",
    "evaluate_operator(circuit)"
   ]
  },
  {
   "cell_type": "code",
   "execution_count": 12,
   "id": "bbea68d6",
   "metadata": {},
   "outputs": [
    {
     "name": "stdout",
     "output_type": "stream",
     "text": [
      "Circuit: QuantumCircuit(1 qubits):\n",
      "  RY(theta=0.7853981633974483)|0⟩\n",
      "State vector: [0.9238795 +0.j 0.38268343+0.j]\n",
      "Measurement probabilities: [0.85355335 0.1464466 ]\n",
      "Expectation value [Z]: 0.7071067690849304\n",
      "Samples: {'1': 183, '0': 817} (1000 shots)\n"
     ]
    }
   ],
   "source": [
    "circuit = QuantumCircuit(1)\n",
    "with circuit:\n",
    "    param = Parameter(np.pi / 4, name=\"theta\")\n",
    "    RY(param)(0)  # RY rotation gate\n",
    "\n",
    "evaluate_operator(circuit)"
   ]
  },
  {
   "cell_type": "code",
   "execution_count": 13,
   "id": "a83b9f7e",
   "metadata": {},
   "outputs": [
    {
     "name": "stdout",
     "output_type": "stream",
     "text": [
      "Circuit: QuantumCircuit(1 qubits):\n",
      "  RZ(phi=0.7853981633974483)|0⟩\n",
      "State vector: [0.9238795-0.38268343j 0.       +0.j        ]\n",
      "Measurement probabilities: [1. 0.]\n",
      "Expectation value [Z]: 0.9999999403953552\n",
      "Samples: {'0': 1000} (1000 shots)\n"
     ]
    }
   ],
   "source": [
    "circuit = QuantumCircuit(1)\n",
    "with circuit:\n",
    "    param = Parameter(np.pi / 4, name=\"phi\")\n",
    "    RZ(param)(0)  # RZ rotation gate\n",
    "\n",
    "evaluate_operator(circuit)"
   ]
  },
  {
   "cell_type": "markdown",
   "id": "2b88c52e",
   "metadata": {},
   "source": [
    "## Control Operators"
   ]
  },
  {
   "cell_type": "code",
   "execution_count": 14,
   "id": "1393b9cf",
   "metadata": {},
   "outputs": [
    {
     "name": "stdout",
     "output_type": "stream",
     "text": [
      "Circuit: QuantumCircuit(2 qubits):\n",
      "  H|0⟩\n",
      "  CX|0, 1⟩\n",
      "State vector: [0.70710677+0.j 0.        +0.j 0.        +0.j 0.70710677+0.j]\n",
      "Measurement probabilities: [0.49999997 0.         0.         0.49999997]\n",
      "Expectation value [Z]: 0.4999999701976776\n",
      "Samples: {'11': 512, '00': 488} (1000 shots)\n"
     ]
    }
   ],
   "source": [
    "circuit = QuantumCircuit(2)\n",
    "with circuit:\n",
    "    H(0)  # Hadamard gate on qubit 0\n",
    "    CX(0, 1)  # CNOT gate with control qubit\n",
    "\n",
    "evaluate_operator(circuit)"
   ]
  },
  {
   "cell_type": "code",
   "execution_count": 15,
   "id": "22195c4c",
   "metadata": {},
   "outputs": [
    {
     "name": "stdout",
     "output_type": "stream",
     "text": [
      "Circuit: QuantumCircuit(2 qubits):\n",
      "  Y|0⟩\n",
      "  CY|0, 1⟩\n",
      "State vector: [ 0.+0.j  0.+0.j  0.+0.j -1.+0.j]\n",
      "Measurement probabilities: [0. 0. 0. 1.]\n",
      "Expectation value [Z]: 0.0\n",
      "Samples: {'11': 1000} (1000 shots)\n"
     ]
    }
   ],
   "source": [
    "circuit = QuantumCircuit(2)\n",
    "with circuit:\n",
    "    Y(0)  # Pauli-Y gate on control qubit\n",
    "    CY(0, 1)  # Controlled-Y gate with control qubit\n",
    "\n",
    "evaluate_operator(circuit)"
   ]
  },
  {
   "cell_type": "code",
   "execution_count": 16,
   "id": "3317e2f8",
   "metadata": {},
   "outputs": [
    {
     "name": "stdout",
     "output_type": "stream",
     "text": [
      "Circuit: QuantumCircuit(2 qubits):\n",
      "  X|0⟩\n",
      "  CZ|0, 1⟩\n",
      "State vector: [0.+0.j 1.+0.j 0.+0.j 0.+0.j]\n",
      "Measurement probabilities: [0. 1. 0. 0.]\n",
      "Expectation value [Z]: -1.0\n",
      "Samples: {'01': 1000} (1000 shots)\n"
     ]
    }
   ],
   "source": [
    "circuit = QuantumCircuit(2)\n",
    "with circuit:\n",
    "    X(0)  # Pauli-Z gate on control qubit\n",
    "    CZ(0, 1)  # Controlled-Z gate with control qubit\n",
    "\n",
    "evaluate_operator(circuit)"
   ]
  }
 ],
 "metadata": {
  "kernelspec": {
   "display_name": "venv",
   "language": "python",
   "name": "python3"
  },
  "language_info": {
   "codemirror_mode": {
    "name": "ipython",
    "version": 3
   },
   "file_extension": ".py",
   "mimetype": "text/x-python",
   "name": "python",
   "nbconvert_exporter": "python",
   "pygments_lexer": "ipython3",
   "version": "3.13.3"
  }
 },
 "nbformat": 4,
 "nbformat_minor": 5
}
