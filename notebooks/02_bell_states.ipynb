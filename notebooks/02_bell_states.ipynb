{
 "cells": [
  {
   "cell_type": "markdown",
   "id": "103809d8",
   "metadata": {},
   "source": [
    "# Bell States with QMLIR\n",
    "\n",
    "This notebook demonstrates how to create and simulate the four Bell states using QMLIR. Bell states are maximally entangled two-qubit quantum states that form the foundation for many quantum information protocols.\n",
    "\n",
    "## What are Bell States?\n",
    "\n",
    "The four Bell states are:\n",
    "- $|\\Phi^+\\rangle = \\frac{1}{\\sqrt{2}}(|00\\rangle + |11\\rangle)$\n",
    "- $|\\Phi^-\\rangle = \\frac{1}{\\sqrt{2}}(|00\\rangle - |11\\rangle)$\n",
    "- $|\\Psi^+\\rangle = \\frac{1}{\\sqrt{2}}(|01\\rangle + |10\\rangle)$\n",
    "- $|\\Psi^-\\rangle = \\frac{1}{\\sqrt{2}}(|01\\rangle - |10\\rangle)$\n",
    "\n",
    "## Learning Objectives\n",
    "- Understand the quantum circuit for each Bell state\n",
    "- Create Bell states using Hadamard (H) and CNOT gates\n",
    "- Simulate Bell states and analyze probability distributions\n",
    "- Explore the maximally entangled nature of Bell states\n",
    "\n",
    "## Mathematical Background\n",
    "\n",
    "Bell states demonstrate **quantum entanglement** - when two qubits are correlated in such a way that the quantum state of each qubit cannot be described independently. Measuring one qubit instantly determines the state of the other, regardless of the distance between them."
   ]
  },
  {
   "cell_type": "code",
   "execution_count": null,
   "id": "b2f59fd8",
   "metadata": {},
   "outputs": [],
   "source": [
    "from qmlir import QuantumCircuit, simulate\n",
    "\n",
    "print(\"Bell States Tutorial with QMLIR\")\n",
    "print(\"=\" * 40)"
   ]
  },
  {
   "cell_type": "markdown",
   "id": "7c05c7d4",
   "metadata": {},
   "source": [
    "## Bell State $|\\Phi^+\\rangle = \\frac{1}{\\sqrt{2}}(|00\\rangle + |11\\rangle)$\n",
    "\n",
    "The most common Bell state is created with a Hadamard gate followed by a CNOT gate. This creates perfect correlation between the two qubits.\n",
    "\n",
    "### Circuit Construction:\n",
    "1. **Step 1**: Apply Hadamard gate to qubit 0: $H|0\\rangle = \\frac{1}{\\sqrt{2}}(|0\\rangle + |1\\rangle)$\n",
    "2. **Step 2**: Apply CNOT gate with qubit 0 as control: $\\text{CNOT}_{0,1} \\frac{1}{\\sqrt{2}}(|0\\rangle + |1\\rangle) \\otimes |0\\rangle$\n",
    "\n",
    "### Result:\n",
    "$$|\\Phi^+\\rangle = \\frac{1}{\\sqrt{2}}(|00\\rangle + |11\\rangle)$$\n",
    "\n",
    "This state has a 50% probability of measuring both qubits in $|0\\rangle$ and 50% probability of measuring both in $|1\\rangle$."
   ]
  },
  {
   "cell_type": "code",
   "execution_count": null,
   "id": "6d7600b9",
   "metadata": {},
   "outputs": [],
   "source": [
    "# Create the |Φ⁺⟩ Bell state\n",
    "phi_plus = QuantumCircuit(2)\n",
    "phi_plus.h(0)    # Put qubit 0 in superposition\n",
    "phi_plus.cx(0, 1) # Entangle qubits 0 and 1\n",
    "\n",
    "print(\"Circuit for |Φ⁺⟩:\")\n",
    "print(phi_plus)\n",
    "\n",
    "# Simulate the circuit\n",
    "result = simulate(phi_plus)\n",
    "print(\"\\nSimulation Results:\")\n",
    "print(f\"Probabilities: {result['probabilities']}\")\n",
    "print(\"Expected: [0.5, 0.0, 0.0, 0.5] (50% |00⟩, 50% |11⟩)\")\n",
    "\n",
    "# Analyze the quantum state\n",
    "final_state = result['final_state']\n",
    "print(\"\\nQuantum amplitudes:\")\n",
    "print(f\"|00⟩: {final_state[0]:.3f}\")\n",
    "print(f\"|01⟩: {final_state[1]:.3f}\")\n",
    "print(f\"|10⟩: {final_state[2]:.3f}\")\n",
    "print(f\"|11⟩: {final_state[3]:.3f}\")"
   ]
  },
  {
   "cell_type": "markdown",
   "id": "31bf4034",
   "metadata": {},
   "source": [
    "## Bell State $|\\Phi^-\\rangle = \\frac{1}{\\sqrt{2}}(|00\\rangle - |11\\rangle)$\n",
    "\n",
    "This Bell state is created by adding a Z gate after the CNOT gate, which introduces a phase flip."
   ]
  },
  {
   "cell_type": "code",
   "execution_count": null,
   "id": "3a392a66",
   "metadata": {},
   "outputs": [],
   "source": [
    "# Create the |Φ⁻⟩ Bell state\n",
    "phi_minus = QuantumCircuit(2)\n",
    "phi_minus.h(0)    # Put qubit 0 in superposition\n",
    "phi_minus.cx(0, 1) # Entangle qubits 0 and 1\n",
    "phi_minus.z(1)    # Apply Z gate to introduce phase flip\n",
    "\n",
    "print(\"Circuit for |Φ⁻⟩:\")\n",
    "print(phi_minus)\n",
    "\n",
    "# Simulate the circuit\n",
    "result = simulate(phi_minus)\n",
    "print(f\"\\nSimulation Results:\")\n",
    "print(f\"Probabilities: {result['probabilities']}\")\n",
    "print(\"Expected: [0.5, 0.0, 0.0, 0.5] (same probabilities as |Φ⁺⟩)\")\n",
    "print(\"Note: The phase difference is not visible in probability measurements!\")"
   ]
  },
  {
   "cell_type": "markdown",
   "id": "4016d454",
   "metadata": {},
   "source": [
    "## Bell State $|\\Psi^+\\rangle = \\frac{1}{\\sqrt{2}}(|01\\rangle + |10\\rangle)$\n",
    "\n",
    "This Bell state is created by adding an X gate to qubit 1 before the CNOT gate, creating anti-correlation."
   ]
  },
  {
   "cell_type": "code",
   "execution_count": null,
   "id": "00c66398",
   "metadata": {},
   "outputs": [],
   "source": [
    "# Create the |Ψ⁺⟩ Bell state\n",
    "psi_plus = QuantumCircuit(2)\n",
    "psi_plus.h(0)     # Put qubit 0 in superposition\n",
    "psi_plus.x(1)     # Flip qubit 1 to |1⟩\n",
    "psi_plus.cx(0, 1) # Entangle qubits 0 and 1\n",
    "\n",
    "print(\"Circuit for |Ψ⁺⟩:\")\n",
    "print(psi_plus)\n",
    "\n",
    "# Simulate the circuit\n",
    "result = simulate(psi_plus)\n",
    "print(f\"\\nSimulation Results:\")\n",
    "print(f\"Probabilities: {result['probabilities']}\")\n",
    "print(\"Expected: [0.0, 0.5, 0.5, 0.0] (50% |01⟩, 50% |10⟩)\")\n",
    "print(\"This demonstrates anti-correlation: opposite measurement outcomes!\")"
   ]
  },
  {
   "cell_type": "markdown",
   "id": "ca30108a",
   "metadata": {},
   "source": [
    "## Bell State $|\\Psi^-\\rangle = \\frac{1}{\\sqrt{2}}(|01\\rangle - |10\\rangle)$\n",
    "\n",
    "The final Bell state combines anti-correlation with a phase flip."
   ]
  },
  {
   "cell_type": "code",
   "execution_count": null,
   "id": "c0b9aa4d",
   "metadata": {},
   "outputs": [],
   "source": [
    "# Create the |Ψ⁻⟩ Bell state\n",
    "psi_minus = QuantumCircuit(2)\n",
    "psi_minus.h(0)     # Put qubit 0 in superposition\n",
    "psi_minus.x(1)     # Flip qubit 1 to |1⟩\n",
    "psi_minus.cx(0, 1) # Entangle qubits 0 and 1\n",
    "psi_minus.z(1)     # Apply Z gate to introduce phase flip\n",
    "\n",
    "print(\"Circuit for |Ψ⁻⟩:\")\n",
    "print(psi_minus)\n",
    "\n",
    "# Simulate the circuit\n",
    "result = simulate(psi_minus)\n",
    "print(f\"\\nSimulation Results:\")\n",
    "print(f\"Probabilities: {result['probabilities']}\")\n",
    "print(\"Expected: [0.0, 0.5, 0.5, 0.0] (same probabilities as |Ψ⁺⟩)\")\n",
    "print(\"Note: The phase difference is not visible in probability measurements!\")"
   ]
  },
  {
   "cell_type": "markdown",
   "id": "7d4d7cef",
   "metadata": {},
   "source": [
    "## Summary and Analysis\n",
    "\n",
    "### Bell State Comparison\n",
    "\n",
    "| Bell State | Mathematical Form | Circuit | Measurement Probabilities |\n",
    "|------------|-------------------|---------|---------------------------|\n",
    "| $\\|\\Phi^+\\rangle$ | $\\frac{1}{\\sqrt{2}}(\\|00\\rangle + \\|11\\rangle)$ | H → CNOT | P(00) = P(11) = 0.5 |\n",
    "| $\\|\\Phi^-\\rangle$ | $\\frac{1}{\\sqrt{2}}(\\|00\\rangle - \\|11\\rangle)$ | H → CNOT → Z | P(00) = P(11) = 0.5 |\n",
    "| $\\|\\Psi^+\\rangle$ | $\\frac{1}{\\sqrt{2}}(\\|01\\rangle + \\|10\\rangle)$ | H → X → CNOT | P(01) = P(10) = 0.5 |\n",
    "| $\\|\\Psi^-\\rangle$ | $\\frac{1}{\\sqrt{2}}(\\|01\\rangle - \\|10\\rangle)$ | H → X → CNOT → Z | P(01) = P(10) = 0.5 |\n",
    "\n",
    "### Key Properties of Bell States\n",
    "\n",
    "1. **Maximal Entanglement**: Bell states are maximally entangled - measuring one qubit provides complete information about the other.\n",
    "\n",
    "2. **Non-separability**: Cannot be written as a tensor product of individual qubit states: $|\\psi\\rangle \\neq |\\psi_1\\rangle \\otimes |\\psi_2\\rangle$\n",
    "\n",
    "3. **Phase vs. Probability**: The minus signs in $|\\Phi^-\\rangle$ and $|\\Psi^-\\rangle$ represent phase differences that don't affect measurement probabilities but are crucial for quantum interference effects.\n",
    "\n",
    "4. **Bell Inequality Violation**: These states violate Bell's inequality, proving that quantum mechanics cannot be explained by local hidden variable theories.\n",
    "\n",
    "### Applications\n",
    "- **Quantum Teleportation**: Transfer quantum states using entanglement\n",
    "- **Quantum Cryptography**: Secure communication protocols\n",
    "- **Quantum Computing**: Basic building blocks for quantum algorithms\n",
    "- **Fundamental Physics**: Tests of quantum mechanics and locality"
   ]
  }
 ],
 "metadata": {
  "language_info": {
   "name": "python"
  }
 },
 "nbformat": 4,
 "nbformat_minor": 5
}
